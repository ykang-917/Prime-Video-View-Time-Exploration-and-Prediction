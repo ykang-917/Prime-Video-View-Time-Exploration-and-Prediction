{
  "nbformat": 4,
  "nbformat_minor": 0,
  "metadata": {
    "colab": {
      "provenance": [],
      "collapsed_sections": [],
      "include_colab_link": true
    },
    "kernelspec": {
      "display_name": "Python 3",
      "name": "python3"
    }
  },
  "cells": [
    {
      "cell_type": "markdown",
      "metadata": {
        "id": "view-in-github",
        "colab_type": "text"
      },
      "source": [
        "<a href=\"https://colab.research.google.com/github/nkang917/video-view-time-prediction/blob/main/amazon_video.ipynb\" target=\"_parent\"><img src=\"https://colab.research.google.com/assets/colab-badge.svg\" alt=\"Open In Colab\"/></a>"
      ]
    },
    {
      "cell_type": "markdown",
      "metadata": {
        "id": "3z7sF7gvxTke"
      },
      "source": [
        "# Part 0 Load packages, load data\n"
      ]
    },
    {
      "cell_type": "code",
      "metadata": {
        "id": "AfZpbClJ8ljR"
      },
      "source": [
        "#import neccessary libraries\n",
        "import numpy as np\n",
        "import pandas as pd\n",
        "import sklearn as sl\n",
        "import sklearn.preprocessing as preprocessing\n",
        "from sklearn.model_selection import train_test_split\n",
        "import seaborn as sns\n",
        "import matplotlib.pyplot as plt\n",
        "pd.set_option('display.float_format', lambda x: '%.3f' % x)\n",
        "pd.set_option('display.max_columns',None)\n",
        "pd.set_option('display.max_rows',None)\n",
        "pd.set_option('max_colwidth',100)\n"
      ],
      "execution_count": null,
      "outputs": []
    },
    {
      "cell_type": "code",
      "metadata": {
        "colab": {
          "resources": {
            "http://localhost:8080/nbextensions/google.colab/files.js": {
              "data": "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",
              "ok": true,
              "headers": [
                [
                  "content-type",
                  "application/javascript"
                ]
              ],
              "status": 200,
              "status_text": ""
            }
          },
          "base_uri": "https://localhost:8080/",
          "height": 72
        },
        "id": "dkksVl1cqw3W",
        "outputId": "3232c1fc-ce13-4577-93c6-be1e2563deb3"
      },
      "source": [
        "from google.colab import files\n",
        "uploaded = files.upload()"
      ],
      "execution_count": null,
      "outputs": [
        {
          "output_type": "display_data",
          "data": {
            "text/html": [
              "\n",
              "     <input type=\"file\" id=\"files-6828b99d-b797-441d-bbd5-ed944bc8cbf2\" name=\"files[]\" multiple disabled\n",
              "        style=\"border:none\" />\n",
              "     <output id=\"result-6828b99d-b797-441d-bbd5-ed944bc8cbf2\">\n",
              "      Upload widget is only available when the cell has been executed in the\n",
              "      current browser session. Please rerun this cell to enable.\n",
              "      </output>\n",
              "      <script src=\"/nbextensions/google.colab/files.js\"></script> "
            ],
            "text/plain": [
              "<IPython.core.display.HTML object>"
            ]
          },
          "metadata": {
            "tags": []
          }
        },
        {
          "output_type": "stream",
          "text": [
            "Saving TVdata.txt to TVdata.txt\n"
          ],
          "name": "stdout"
        }
      ]
    },
    {
      "cell_type": "code",
      "metadata": {
        "colab": {
          "base_uri": "https://localhost:8080/",
          "height": 292
        },
        "id": "-wJBauQaI6QZ",
        "outputId": "5ce9992c-d049-4597-a1be-a78bcadb310c"
      },
      "source": [
        "TV=pd.read_table('TVdata.txt',header=0,sep=',',lineterminator='\\n')\n",
        "TV.head()"
      ],
      "execution_count": null,
      "outputs": [
        {
          "output_type": "execute_result",
          "data": {
            "text/html": [
              "<div>\n",
              "<style scoped>\n",
              "    .dataframe tbody tr th:only-of-type {\n",
              "        vertical-align: middle;\n",
              "    }\n",
              "\n",
              "    .dataframe tbody tr th {\n",
              "        vertical-align: top;\n",
              "    }\n",
              "\n",
              "    .dataframe thead th {\n",
              "        text-align: right;\n",
              "    }\n",
              "</style>\n",
              "<table border=\"1\" class=\"dataframe\">\n",
              "  <thead>\n",
              "    <tr style=\"text-align: right;\">\n",
              "      <th></th>\n",
              "      <th>video_id</th>\n",
              "      <th>cvt_per_day</th>\n",
              "      <th>weighted_categorical_position</th>\n",
              "      <th>weighted_horizontal_poition</th>\n",
              "      <th>import_id</th>\n",
              "      <th>release_year</th>\n",
              "      <th>genres</th>\n",
              "      <th>imdb_votes</th>\n",
              "      <th>budget</th>\n",
              "      <th>boxoffice</th>\n",
              "      <th>imdb_rating</th>\n",
              "      <th>duration_in_mins</th>\n",
              "      <th>metacritic_score</th>\n",
              "      <th>awards</th>\n",
              "      <th>mpaa</th>\n",
              "      <th>star_category</th>\n",
              "    </tr>\n",
              "  </thead>\n",
              "  <tbody>\n",
              "    <tr>\n",
              "      <th>0</th>\n",
              "      <td>385504</td>\n",
              "      <td>307127.606</td>\n",
              "      <td>1</td>\n",
              "      <td>3</td>\n",
              "      <td>lionsgate</td>\n",
              "      <td>2013</td>\n",
              "      <td>Action,Thriller,Drama</td>\n",
              "      <td>69614</td>\n",
              "      <td>15000000</td>\n",
              "      <td>42930462</td>\n",
              "      <td>6.500</td>\n",
              "      <td>112.301</td>\n",
              "      <td>51</td>\n",
              "      <td>other award</td>\n",
              "      <td>PG-13</td>\n",
              "      <td>1.710</td>\n",
              "    </tr>\n",
              "    <tr>\n",
              "      <th>1</th>\n",
              "      <td>300175</td>\n",
              "      <td>270338.426</td>\n",
              "      <td>1</td>\n",
              "      <td>3</td>\n",
              "      <td>lionsgate</td>\n",
              "      <td>2013</td>\n",
              "      <td>Comedy,Crime,Thriller</td>\n",
              "      <td>46705</td>\n",
              "      <td>15000000</td>\n",
              "      <td>3301046</td>\n",
              "      <td>6.500</td>\n",
              "      <td>94.983</td>\n",
              "      <td>41</td>\n",
              "      <td>no award</td>\n",
              "      <td>R</td>\n",
              "      <td>3.250</td>\n",
              "    </tr>\n",
              "    <tr>\n",
              "      <th>2</th>\n",
              "      <td>361899</td>\n",
              "      <td>256165.867</td>\n",
              "      <td>1</td>\n",
              "      <td>3</td>\n",
              "      <td>other</td>\n",
              "      <td>2012</td>\n",
              "      <td>Crime,Drama</td>\n",
              "      <td>197596</td>\n",
              "      <td>26000000</td>\n",
              "      <td>37397291</td>\n",
              "      <td>7.300</td>\n",
              "      <td>115.764</td>\n",
              "      <td>58</td>\n",
              "      <td>other award</td>\n",
              "      <td>R</td>\n",
              "      <td>2.647</td>\n",
              "    </tr>\n",
              "    <tr>\n",
              "      <th>3</th>\n",
              "      <td>308314</td>\n",
              "      <td>196622.721</td>\n",
              "      <td>3</td>\n",
              "      <td>4</td>\n",
              "      <td>lionsgate</td>\n",
              "      <td>2008</td>\n",
              "      <td>Thriller,Drama,War,Documentary,Mystery,Action</td>\n",
              "      <td>356339</td>\n",
              "      <td>15000000</td>\n",
              "      <td>15700000</td>\n",
              "      <td>7.600</td>\n",
              "      <td>130.704</td>\n",
              "      <td>94</td>\n",
              "      <td>Oscar</td>\n",
              "      <td>R</td>\n",
              "      <td>1.667</td>\n",
              "    </tr>\n",
              "    <tr>\n",
              "      <th>4</th>\n",
              "      <td>307201</td>\n",
              "      <td>159841.652</td>\n",
              "      <td>1</td>\n",
              "      <td>3</td>\n",
              "      <td>lionsgate</td>\n",
              "      <td>2013</td>\n",
              "      <td>Crime,Thriller,Mystery,Documentary</td>\n",
              "      <td>46720</td>\n",
              "      <td>27220000</td>\n",
              "      <td>8551228</td>\n",
              "      <td>6.400</td>\n",
              "      <td>105.546</td>\n",
              "      <td>37</td>\n",
              "      <td>other award</td>\n",
              "      <td>R</td>\n",
              "      <td>3.067</td>\n",
              "    </tr>\n",
              "  </tbody>\n",
              "</table>\n",
              "</div>"
            ],
            "text/plain": [
              "   video_id  cvt_per_day  weighted_categorical_position  \\\n",
              "0    385504   307127.606                              1   \n",
              "1    300175   270338.426                              1   \n",
              "2    361899   256165.867                              1   \n",
              "3    308314   196622.721                              3   \n",
              "4    307201   159841.652                              1   \n",
              "\n",
              "   weighted_horizontal_poition  import_id  release_year  \\\n",
              "0                            3  lionsgate          2013   \n",
              "1                            3  lionsgate          2013   \n",
              "2                            3      other          2012   \n",
              "3                            4  lionsgate          2008   \n",
              "4                            3  lionsgate          2013   \n",
              "\n",
              "                                          genres  imdb_votes    budget  \\\n",
              "0                          Action,Thriller,Drama       69614  15000000   \n",
              "1                          Comedy,Crime,Thriller       46705  15000000   \n",
              "2                                    Crime,Drama      197596  26000000   \n",
              "3  Thriller,Drama,War,Documentary,Mystery,Action      356339  15000000   \n",
              "4             Crime,Thriller,Mystery,Documentary       46720  27220000   \n",
              "\n",
              "   boxoffice  imdb_rating  duration_in_mins  metacritic_score       awards  \\\n",
              "0   42930462        6.500           112.301                51  other award   \n",
              "1    3301046        6.500            94.983                41     no award   \n",
              "2   37397291        7.300           115.764                58  other award   \n",
              "3   15700000        7.600           130.704                94        Oscar   \n",
              "4    8551228        6.400           105.546                37  other award   \n",
              "\n",
              "    mpaa  star_category  \n",
              "0  PG-13          1.710  \n",
              "1      R          3.250  \n",
              "2      R          2.647  \n",
              "3      R          1.667  \n",
              "4      R          3.067  "
            ]
          },
          "metadata": {
            "tags": []
          },
          "execution_count": 3
        }
      ]
    },
    {
      "cell_type": "markdown",
      "metadata": {
        "id": "3ES81w8WA2Wk"
      },
      "source": [
        "# Part 1: Data Exploration"
      ]
    },
    {
      "cell_type": "markdown",
      "metadata": {
        "id": "CDv2MT3gBO70"
      },
      "source": [
        "## 1.1 Understand the Raw Dataset"
      ]
    },
    {
      "cell_type": "code",
      "metadata": {
        "colab": {
          "base_uri": "https://localhost:8080/"
        },
        "id": "Vo-30evk7AfE",
        "outputId": "4547ab42-04b3-494e-f205-85a34064a477"
      },
      "source": [
        "# check data info\n",
        "TV.info()"
      ],
      "execution_count": null,
      "outputs": [
        {
          "output_type": "stream",
          "text": [
            "<class 'pandas.core.frame.DataFrame'>\n",
            "RangeIndex: 4226 entries, 0 to 4225\n",
            "Data columns (total 16 columns):\n",
            " #   Column                         Non-Null Count  Dtype  \n",
            "---  ------                         --------------  -----  \n",
            " 0   video_id                       4226 non-null   int64  \n",
            " 1   cvt_per_day                    4226 non-null   float64\n",
            " 2   weighted_categorical_position  4226 non-null   int64  \n",
            " 3   weighted_horizontal_poition    4226 non-null   int64  \n",
            " 4   import_id                      4226 non-null   object \n",
            " 5   release_year                   4226 non-null   int64  \n",
            " 6   genres                         4226 non-null   object \n",
            " 7   imdb_votes                     4226 non-null   int64  \n",
            " 8   budget                         4226 non-null   int64  \n",
            " 9   boxoffice                      4226 non-null   int64  \n",
            " 10  imdb_rating                    4226 non-null   float64\n",
            " 11  duration_in_mins               4226 non-null   float64\n",
            " 12  metacritic_score               4226 non-null   int64  \n",
            " 13  awards                         4226 non-null   object \n",
            " 14  mpaa                           4226 non-null   object \n",
            " 15  star_category                  4226 non-null   float64\n",
            "dtypes: float64(4), int64(8), object(4)\n",
            "memory usage: 528.4+ KB\n"
          ],
          "name": "stdout"
        }
      ]
    },
    {
      "cell_type": "code",
      "metadata": {
        "colab": {
          "base_uri": "https://localhost:8080/"
        },
        "id": "pWKcXoFv7Pxg",
        "outputId": "43eb4b54-2e87-4575-eb88-0fc9be280ff3"
      },
      "source": [
        "# check the unique values for each column\n",
        "TV.nunique()"
      ],
      "execution_count": null,
      "outputs": [
        {
          "output_type": "execute_result",
          "data": {
            "text/plain": [
              "video_id                         4226\n",
              "cvt_per_day                      4226\n",
              "weighted_categorical_position      37\n",
              "weighted_horizontal_poition        68\n",
              "import_id                           4\n",
              "release_year                       97\n",
              "genres                           1165\n",
              "imdb_votes                       2282\n",
              "budget                            253\n",
              "boxoffice                         410\n",
              "imdb_rating                        85\n",
              "duration_in_mins                 4097\n",
              "metacritic_score                   90\n",
              "awards                              5\n",
              "mpaa                                6\n",
              "star_category                     630\n",
              "dtype: int64"
            ]
          },
          "metadata": {
            "tags": []
          },
          "execution_count": 5
        }
      ]
    },
    {
      "cell_type": "markdown",
      "metadata": {
        "id": "v-N2W8E1ybr2"
      },
      "source": [
        "## 1.2 Understand numerical features"
      ]
    },
    {
      "cell_type": "markdown",
      "metadata": {
        "id": "i6DmON1TyoYw"
      },
      "source": [
        "### 1.2.1 Overview"
      ]
    },
    {
      "cell_type": "code",
      "metadata": {
        "colab": {
          "base_uri": "https://localhost:8080/",
          "height": 317
        },
        "id": "CJcon31EF26u",
        "outputId": "259e9c26-3035-441c-d699-ba581f5145e5"
      },
      "source": [
        "TV.drop(columns=['video_id']).describe()"
      ],
      "execution_count": null,
      "outputs": [
        {
          "output_type": "execute_result",
          "data": {
            "text/html": [
              "<div>\n",
              "<style scoped>\n",
              "    .dataframe tbody tr th:only-of-type {\n",
              "        vertical-align: middle;\n",
              "    }\n",
              "\n",
              "    .dataframe tbody tr th {\n",
              "        vertical-align: top;\n",
              "    }\n",
              "\n",
              "    .dataframe thead th {\n",
              "        text-align: right;\n",
              "    }\n",
              "</style>\n",
              "<table border=\"1\" class=\"dataframe\">\n",
              "  <thead>\n",
              "    <tr style=\"text-align: right;\">\n",
              "      <th></th>\n",
              "      <th>cvt_per_day</th>\n",
              "      <th>weighted_categorical_position</th>\n",
              "      <th>weighted_horizontal_poition</th>\n",
              "      <th>release_year</th>\n",
              "      <th>imdb_votes</th>\n",
              "      <th>budget</th>\n",
              "      <th>boxoffice</th>\n",
              "      <th>imdb_rating</th>\n",
              "      <th>duration_in_mins</th>\n",
              "      <th>metacritic_score</th>\n",
              "      <th>star_category</th>\n",
              "    </tr>\n",
              "  </thead>\n",
              "  <tbody>\n",
              "    <tr>\n",
              "      <th>count</th>\n",
              "      <td>4226.000</td>\n",
              "      <td>4226.000</td>\n",
              "      <td>4226.000</td>\n",
              "      <td>4226.000</td>\n",
              "      <td>4226.000</td>\n",
              "      <td>4226.000</td>\n",
              "      <td>4226.000</td>\n",
              "      <td>4226.000</td>\n",
              "      <td>4226.000</td>\n",
              "      <td>4226.000</td>\n",
              "      <td>4226.000</td>\n",
              "    </tr>\n",
              "    <tr>\n",
              "      <th>mean</th>\n",
              "      <td>4218.630</td>\n",
              "      <td>7.783</td>\n",
              "      <td>28.104</td>\n",
              "      <td>2001.057</td>\n",
              "      <td>6462.924</td>\n",
              "      <td>2150743.439</td>\n",
              "      <td>2536338.472</td>\n",
              "      <td>5.257</td>\n",
              "      <td>89.556</td>\n",
              "      <td>15.974</td>\n",
              "      <td>0.955</td>\n",
              "    </tr>\n",
              "    <tr>\n",
              "      <th>std</th>\n",
              "      <td>13036.080</td>\n",
              "      <td>6.134</td>\n",
              "      <td>11.864</td>\n",
              "      <td>17.497</td>\n",
              "      <td>31596.007</td>\n",
              "      <td>7176604.483</td>\n",
              "      <td>8243516.266</td>\n",
              "      <td>2.123</td>\n",
              "      <td>21.086</td>\n",
              "      <td>26.205</td>\n",
              "      <td>0.955</td>\n",
              "    </tr>\n",
              "    <tr>\n",
              "      <th>min</th>\n",
              "      <td>2.188</td>\n",
              "      <td>1.000</td>\n",
              "      <td>1.000</td>\n",
              "      <td>1916.000</td>\n",
              "      <td>0.000</td>\n",
              "      <td>0.000</td>\n",
              "      <td>0.000</td>\n",
              "      <td>0.000</td>\n",
              "      <td>4.037</td>\n",
              "      <td>0.000</td>\n",
              "      <td>0.000</td>\n",
              "    </tr>\n",
              "    <tr>\n",
              "      <th>25%</th>\n",
              "      <td>351.169</td>\n",
              "      <td>4.000</td>\n",
              "      <td>20.000</td>\n",
              "      <td>1998.000</td>\n",
              "      <td>81.000</td>\n",
              "      <td>0.000</td>\n",
              "      <td>0.000</td>\n",
              "      <td>4.300</td>\n",
              "      <td>82.602</td>\n",
              "      <td>0.000</td>\n",
              "      <td>0.000</td>\n",
              "    </tr>\n",
              "    <tr>\n",
              "      <th>50%</th>\n",
              "      <td>1193.500</td>\n",
              "      <td>6.000</td>\n",
              "      <td>28.000</td>\n",
              "      <td>2008.000</td>\n",
              "      <td>535.000</td>\n",
              "      <td>0.000</td>\n",
              "      <td>0.000</td>\n",
              "      <td>5.800</td>\n",
              "      <td>90.730</td>\n",
              "      <td>0.000</td>\n",
              "      <td>1.000</td>\n",
              "    </tr>\n",
              "    <tr>\n",
              "      <th>75%</th>\n",
              "      <td>3356.789</td>\n",
              "      <td>9.000</td>\n",
              "      <td>36.000</td>\n",
              "      <td>2012.000</td>\n",
              "      <td>3053.000</td>\n",
              "      <td>1500000.000</td>\n",
              "      <td>0.000</td>\n",
              "      <td>6.800</td>\n",
              "      <td>99.500</td>\n",
              "      <td>41.000</td>\n",
              "      <td>1.667</td>\n",
              "    </tr>\n",
              "    <tr>\n",
              "      <th>max</th>\n",
              "      <td>307127.606</td>\n",
              "      <td>41.000</td>\n",
              "      <td>70.000</td>\n",
              "      <td>2017.000</td>\n",
              "      <td>948630.000</td>\n",
              "      <td>107000000.000</td>\n",
              "      <td>184208848.000</td>\n",
              "      <td>10.000</td>\n",
              "      <td>246.017</td>\n",
              "      <td>100.000</td>\n",
              "      <td>4.000</td>\n",
              "    </tr>\n",
              "  </tbody>\n",
              "</table>\n",
              "</div>"
            ],
            "text/plain": [
              "       cvt_per_day  weighted_categorical_position  \\\n",
              "count     4226.000                       4226.000   \n",
              "mean      4218.630                          7.783   \n",
              "std      13036.080                          6.134   \n",
              "min          2.188                          1.000   \n",
              "25%        351.169                          4.000   \n",
              "50%       1193.500                          6.000   \n",
              "75%       3356.789                          9.000   \n",
              "max     307127.606                         41.000   \n",
              "\n",
              "       weighted_horizontal_poition  release_year  imdb_votes        budget  \\\n",
              "count                     4226.000      4226.000    4226.000      4226.000   \n",
              "mean                        28.104      2001.057    6462.924   2150743.439   \n",
              "std                         11.864        17.497   31596.007   7176604.483   \n",
              "min                          1.000      1916.000       0.000         0.000   \n",
              "25%                         20.000      1998.000      81.000         0.000   \n",
              "50%                         28.000      2008.000     535.000         0.000   \n",
              "75%                         36.000      2012.000    3053.000   1500000.000   \n",
              "max                         70.000      2017.000  948630.000 107000000.000   \n",
              "\n",
              "          boxoffice  imdb_rating  duration_in_mins  metacritic_score  \\\n",
              "count      4226.000     4226.000          4226.000          4226.000   \n",
              "mean    2536338.472        5.257            89.556            15.974   \n",
              "std     8243516.266        2.123            21.086            26.205   \n",
              "min           0.000        0.000             4.037             0.000   \n",
              "25%           0.000        4.300            82.602             0.000   \n",
              "50%           0.000        5.800            90.730             0.000   \n",
              "75%           0.000        6.800            99.500            41.000   \n",
              "max   184208848.000       10.000           246.017           100.000   \n",
              "\n",
              "       star_category  \n",
              "count       4226.000  \n",
              "mean           0.955  \n",
              "std            0.955  \n",
              "min            0.000  \n",
              "25%            0.000  \n",
              "50%            1.000  \n",
              "75%            1.667  \n",
              "max            4.000  "
            ]
          },
          "metadata": {
            "tags": []
          },
          "execution_count": 18
        }
      ]
    },
    {
      "cell_type": "code",
      "metadata": {
        "colab": {
          "base_uri": "https://localhost:8080/"
        },
        "id": "uJjAXbAj8Sys",
        "outputId": "c69ccb41-4956-480f-b049-1c8811441f85"
      },
      "source": [
        "# We see there are many erroneous '0' for columns like 'budget', 'boxoffice', \n",
        "# so let's check the percentage of '0' for each column\n",
        "(TV==0).sum(axis=0) / TV.shape[0]"
      ],
      "execution_count": null,
      "outputs": [
        {
          "output_type": "execute_result",
          "data": {
            "text/plain": [
              "video_id                        0.000\n",
              "cvt_per_day                     0.000\n",
              "weighted_categorical_position   0.000\n",
              "weighted_horizontal_poition     0.000\n",
              "import_id                       0.000\n",
              "release_year                    0.000\n",
              "genres                          0.000\n",
              "imdb_votes                      0.081\n",
              "budget                          0.581\n",
              "boxoffice                       0.756\n",
              "imdb_rating                     0.081\n",
              "duration_in_mins                0.000\n",
              "metacritic_score                0.713\n",
              "awards                          0.000\n",
              "mpaa                            0.000\n",
              "star_category                   0.437\n",
              "dtype: float64"
            ]
          },
          "metadata": {
            "tags": []
          },
          "execution_count": 13
        }
      ]
    },
    {
      "cell_type": "markdown",
      "metadata": {
        "id": "spQmT1ZHyjVe"
      },
      "source": [
        "### 1.2.2 cvt_per_day feature"
      ]
    },
    {
      "cell_type": "code",
      "metadata": {
        "id": "C8tbW1Yo-Hkk"
      },
      "source": [
        "####################\n",
        "# if is binary dependent variable, draw boxplot for numerical feature\n",
        "_,axss = plt.subplots(2,3, figsize=[20,10])\n",
        "sns.boxplot(x='Exited', y ='CreditScore', data=churn_df, ax=axss[0][0])\n",
        "sns.boxplot(x='Exited', y ='Age', data=churn_df, ax=axss[0][1])\n",
        "sns.boxplot(x='Exited', y ='Tenure', data=churn_df, ax=axss[0][2])\n",
        "sns.boxplot(x='Exited', y ='NumOfProducts', data=churn_df, ax=axss[1][0])\n",
        "sns.boxplot(x='Exited', y ='Balance', data=churn_df, ax=axss[1][1])\n",
        "sns.boxplot(x='Exited', y ='EstimatedSalary', data=churn_df, ax=axss[1][2])"
      ],
      "execution_count": null,
      "outputs": []
    },
    {
      "cell_type": "code",
      "metadata": {
        "colab": {
          "base_uri": "https://localhost:8080/",
          "height": 313
        },
        "id": "aVtmAXl9_w-g",
        "outputId": "0d477107-0320-4ac2-d070-9e8631acdcfa"
      },
      "source": [
        "sns.histplot(data=TV, x='cvt_per_day', binwidth=30, binrange=(0,15000), color='r')\n",
        "plt.title('Historgrams of cvt_per_day before data processing')"
      ],
      "execution_count": null,
      "outputs": [
        {
          "output_type": "execute_result",
          "data": {
            "text/plain": [
              "Text(0.5, 1.0, 'Historgrams of cvt_per_day before data processing')"
            ]
          },
          "metadata": {
            "tags": []
          },
          "execution_count": 59
        },
        {
          "output_type": "display_data",
          "data": {
            "image/png": "[encoded data removed]",
            "text/plain": [
              "<Figure size 432x288 with 1 Axes>"
            ]
          },
          "metadata": {
            "tags": []
          }
        }
      ]
    },
    {
      "cell_type": "markdown",
      "metadata": {
        "id": "my0LY0Wf0CGb"
      },
      "source": [
        "### 1.2.3 Correlation among numerical features"
      ]
    },
    {
      "cell_type": "code",
      "metadata": {
        "colab": {
          "base_uri": "https://localhost:8080/",
          "height": 428
        },
        "id": "oSBeyIiGfLA8",
        "outputId": "f13aadd4-fe86-477e-d54e-981b321775bc"
      },
      "source": [
        "corr = TV[['cvt_per_day','weighted_categorical_position','weighted_horizontal_poition',\n",
        "           'release_year', 'imdb_votes', 'budget', 'boxoffice' ,'imdb_rating', \n",
        "           'duration_in_mins', 'metacritic_score', 'star_category']].corr()\n",
        "sns.heatmap(corr, cmap=\"YlGnBu\")"
      ],
      "execution_count": null,
      "outputs": [
        {
          "output_type": "execute_result",
          "data": {
            "text/plain": [
              "<matplotlib.axes._subplots.AxesSubplot at 0x7f68f865f150>"
            ]
          },
          "metadata": {
            "tags": []
          },
          "execution_count": 62
        },
        {
          "output_type": "display_data",
          "data": {
            "image/png": "[encoded data removed]",
            "text/plain": [
              "<Figure size 432x288 with 2 Axes>"
            ]
          },
          "metadata": {
            "tags": []
          }
        }
      ]
    },
    {
      "cell_type": "code",
      "metadata": {
        "colab": {
          "base_uri": "https://localhost:8080/",
          "height": 410
        },
        "id": "zKOrme5yfSwc",
        "outputId": "5e175dd8-0ab1-44d1-cb0c-bf3c71ec55b4"
      },
      "source": [
        "corr"
      ],
      "execution_count": null,
      "outputs": [
        {
          "output_type": "execute_result",
          "data": {
            "text/html": [
              "<div>\n",
              "<style scoped>\n",
              "    .dataframe tbody tr th:only-of-type {\n",
              "        vertical-align: middle;\n",
              "    }\n",
              "\n",
              "    .dataframe tbody tr th {\n",
              "        vertical-align: top;\n",
              "    }\n",
              "\n",
              "    .dataframe thead th {\n",
              "        text-align: right;\n",
              "    }\n",
              "</style>\n",
              "<table border=\"1\" class=\"dataframe\">\n",
              "  <thead>\n",
              "    <tr style=\"text-align: right;\">\n",
              "      <th></th>\n",
              "      <th>cvt_per_day</th>\n",
              "      <th>weighted_categorical_position</th>\n",
              "      <th>weighted_horizontal_poition</th>\n",
              "      <th>release_year</th>\n",
              "      <th>imdb_votes</th>\n",
              "      <th>budget</th>\n",
              "      <th>boxoffice</th>\n",
              "      <th>imdb_rating</th>\n",
              "      <th>duration_in_mins</th>\n",
              "      <th>metacritic_score</th>\n",
              "      <th>star_category</th>\n",
              "    </tr>\n",
              "  </thead>\n",
              "  <tbody>\n",
              "    <tr>\n",
              "      <th>cvt_per_day</th>\n",
              "      <td>1.000</td>\n",
              "      <td>-0.148</td>\n",
              "      <td>-0.302</td>\n",
              "      <td>0.046</td>\n",
              "      <td>0.298</td>\n",
              "      <td>0.316</td>\n",
              "      <td>0.312</td>\n",
              "      <td>0.059</td>\n",
              "      <td>0.152</td>\n",
              "      <td>0.249</td>\n",
              "      <td>0.247</td>\n",
              "    </tr>\n",
              "    <tr>\n",
              "      <th>weighted_categorical_position</th>\n",
              "      <td>-0.148</td>\n",
              "      <td>1.000</td>\n",
              "      <td>-0.084</td>\n",
              "      <td>-0.069</td>\n",
              "      <td>-0.064</td>\n",
              "      <td>-0.090</td>\n",
              "      <td>-0.074</td>\n",
              "      <td>-0.116</td>\n",
              "      <td>-0.174</td>\n",
              "      <td>-0.044</td>\n",
              "      <td>-0.123</td>\n",
              "    </tr>\n",
              "    <tr>\n",
              "      <th>weighted_horizontal_poition</th>\n",
              "      <td>-0.302</td>\n",
              "      <td>-0.084</td>\n",
              "      <td>1.000</td>\n",
              "      <td>0.027</td>\n",
              "      <td>-0.221</td>\n",
              "      <td>-0.211</td>\n",
              "      <td>-0.245</td>\n",
              "      <td>-0.162</td>\n",
              "      <td>-0.102</td>\n",
              "      <td>-0.255</td>\n",
              "      <td>-0.168</td>\n",
              "    </tr>\n",
              "    <tr>\n",
              "      <th>release_year</th>\n",
              "      <td>0.046</td>\n",
              "      <td>-0.069</td>\n",
              "      <td>0.027</td>\n",
              "      <td>1.000</td>\n",
              "      <td>-0.083</td>\n",
              "      <td>-0.040</td>\n",
              "      <td>-0.128</td>\n",
              "      <td>-0.199</td>\n",
              "      <td>-0.097</td>\n",
              "      <td>-0.167</td>\n",
              "      <td>-0.198</td>\n",
              "    </tr>\n",
              "    <tr>\n",
              "      <th>imdb_votes</th>\n",
              "      <td>0.298</td>\n",
              "      <td>-0.064</td>\n",
              "      <td>-0.221</td>\n",
              "      <td>-0.083</td>\n",
              "      <td>1.000</td>\n",
              "      <td>0.273</td>\n",
              "      <td>0.531</td>\n",
              "      <td>0.163</td>\n",
              "      <td>0.156</td>\n",
              "      <td>0.322</td>\n",
              "      <td>0.225</td>\n",
              "    </tr>\n",
              "    <tr>\n",
              "      <th>budget</th>\n",
              "      <td>0.316</td>\n",
              "      <td>-0.090</td>\n",
              "      <td>-0.211</td>\n",
              "      <td>-0.040</td>\n",
              "      <td>0.273</td>\n",
              "      <td>1.000</td>\n",
              "      <td>0.505</td>\n",
              "      <td>0.106</td>\n",
              "      <td>0.251</td>\n",
              "      <td>0.315</td>\n",
              "      <td>0.322</td>\n",
              "    </tr>\n",
              "    <tr>\n",
              "      <th>boxoffice</th>\n",
              "      <td>0.312</td>\n",
              "      <td>-0.074</td>\n",
              "      <td>-0.245</td>\n",
              "      <td>-0.128</td>\n",
              "      <td>0.531</td>\n",
              "      <td>0.505</td>\n",
              "      <td>1.000</td>\n",
              "      <td>0.164</td>\n",
              "      <td>0.226</td>\n",
              "      <td>0.465</td>\n",
              "      <td>0.322</td>\n",
              "    </tr>\n",
              "    <tr>\n",
              "      <th>imdb_rating</th>\n",
              "      <td>0.059</td>\n",
              "      <td>-0.116</td>\n",
              "      <td>-0.162</td>\n",
              "      <td>-0.199</td>\n",
              "      <td>0.163</td>\n",
              "      <td>0.106</td>\n",
              "      <td>0.164</td>\n",
              "      <td>1.000</td>\n",
              "      <td>0.344</td>\n",
              "      <td>0.347</td>\n",
              "      <td>0.192</td>\n",
              "    </tr>\n",
              "    <tr>\n",
              "      <th>duration_in_mins</th>\n",
              "      <td>0.152</td>\n",
              "      <td>-0.174</td>\n",
              "      <td>-0.102</td>\n",
              "      <td>-0.097</td>\n",
              "      <td>0.156</td>\n",
              "      <td>0.251</td>\n",
              "      <td>0.226</td>\n",
              "      <td>0.344</td>\n",
              "      <td>1.000</td>\n",
              "      <td>0.327</td>\n",
              "      <td>0.309</td>\n",
              "    </tr>\n",
              "    <tr>\n",
              "      <th>metacritic_score</th>\n",
              "      <td>0.249</td>\n",
              "      <td>-0.044</td>\n",
              "      <td>-0.255</td>\n",
              "      <td>-0.167</td>\n",
              "      <td>0.322</td>\n",
              "      <td>0.315</td>\n",
              "      <td>0.465</td>\n",
              "      <td>0.347</td>\n",
              "      <td>0.327</td>\n",
              "      <td>1.000</td>\n",
              "      <td>0.452</td>\n",
              "    </tr>\n",
              "    <tr>\n",
              "      <th>star_category</th>\n",
              "      <td>0.247</td>\n",
              "      <td>-0.123</td>\n",
              "      <td>-0.168</td>\n",
              "      <td>-0.198</td>\n",
              "      <td>0.225</td>\n",
              "      <td>0.322</td>\n",
              "      <td>0.322</td>\n",
              "      <td>0.192</td>\n",
              "      <td>0.309</td>\n",
              "      <td>0.452</td>\n",
              "      <td>1.000</td>\n",
              "    </tr>\n",
              "  </tbody>\n",
              "</table>\n",
              "</div>"
            ],
            "text/plain": [
              "                               cvt_per_day  weighted_categorical_position  \\\n",
              "cvt_per_day                          1.000                         -0.148   \n",
              "weighted_categorical_position       -0.148                          1.000   \n",
              "weighted_horizontal_poition         -0.302                         -0.084   \n",
              "release_year                         0.046                         -0.069   \n",
              "imdb_votes                           0.298                         -0.064   \n",
              "budget                               0.316                         -0.090   \n",
              "boxoffice                            0.312                         -0.074   \n",
              "imdb_rating                          0.059                         -0.116   \n",
              "duration_in_mins                     0.152                         -0.174   \n",
              "metacritic_score                     0.249                         -0.044   \n",
              "star_category                        0.247                         -0.123   \n",
              "\n",
              "                               weighted_horizontal_poition  release_year  \\\n",
              "cvt_per_day                                         -0.302         0.046   \n",
              "weighted_categorical_position                       -0.084        -0.069   \n",
              "weighted_horizontal_poition                          1.000         0.027   \n",
              "release_year                                         0.027         1.000   \n",
              "imdb_votes                                          -0.221        -0.083   \n",
              "budget                                              -0.211        -0.040   \n",
              "boxoffice                                           -0.245        -0.128   \n",
              "imdb_rating                                         -0.162        -0.199   \n",
              "duration_in_mins                                    -0.102        -0.097   \n",
              "metacritic_score                                    -0.255        -0.167   \n",
              "star_category                                       -0.168        -0.198   \n",
              "\n",
              "                               imdb_votes  budget  boxoffice  imdb_rating  \\\n",
              "cvt_per_day                         0.298   0.316      0.312        0.059   \n",
              "weighted_categorical_position      -0.064  -0.090     -0.074       -0.116   \n",
              "weighted_horizontal_poition        -0.221  -0.211     -0.245       -0.162   \n",
              "release_year                       -0.083  -0.040     -0.128       -0.199   \n",
              "imdb_votes                          1.000   0.273      0.531        0.163   \n",
              "budget                              0.273   1.000      0.505        0.106   \n",
              "boxoffice                           0.531   0.505      1.000        0.164   \n",
              "imdb_rating                         0.163   0.106      0.164        1.000   \n",
              "duration_in_mins                    0.156   0.251      0.226        0.344   \n",
              "metacritic_score                    0.322   0.315      0.465        0.347   \n",
              "star_category                       0.225   0.322      0.322        0.192   \n",
              "\n",
              "                               duration_in_mins  metacritic_score  \\\n",
              "cvt_per_day                               0.152             0.249   \n",
              "weighted_categorical_position            -0.174            -0.044   \n",
              "weighted_horizontal_poition              -0.102            -0.255   \n",
              "release_year                             -0.097            -0.167   \n",
              "imdb_votes                                0.156             0.322   \n",
              "budget                                    0.251             0.315   \n",
              "boxoffice                                 0.226             0.465   \n",
              "imdb_rating                               0.344             0.347   \n",
              "duration_in_mins                          1.000             0.327   \n",
              "metacritic_score                          0.327             1.000   \n",
              "star_category                             0.309             0.452   \n",
              "\n",
              "                               star_category  \n",
              "cvt_per_day                            0.247  \n",
              "weighted_categorical_position         -0.123  \n",
              "weighted_horizontal_poition           -0.168  \n",
              "release_year                          -0.198  \n",
              "imdb_votes                             0.225  \n",
              "budget                                 0.322  \n",
              "boxoffice                              0.322  \n",
              "imdb_rating                            0.192  \n",
              "duration_in_mins                       0.309  \n",
              "metacritic_score                       0.452  \n",
              "star_category                          1.000  "
            ]
          },
          "metadata": {
            "tags": []
          },
          "execution_count": 63
        }
      ]
    },
    {
      "cell_type": "markdown",
      "metadata": {
        "id": "fVUMUbzs0UrM"
      },
      "source": [
        "## 1.3 Understand categorical features"
      ]
    },
    {
      "cell_type": "markdown",
      "metadata": {
        "id": "kFWDC_kmieQX"
      },
      "source": [
        "### 1.3.1 Distribution of standard categorical features"
      ]
    },
    {
      "cell_type": "code",
      "metadata": {
        "id": "c0g66TdgG6dN"
      },
      "source": [
        "# for categorical vs. numerical, use sns.stripplot\n",
        "# for categorical vs. categorical, use sns.countplot(hue)"
      ],
      "execution_count": null,
      "outputs": []
    },
    {
      "cell_type": "code",
      "metadata": {
        "colab": {
          "base_uri": "https://localhost:8080/",
          "height": 1000
        },
        "id": "U5Q7QppFfW4P",
        "outputId": "dcbfbf64-9092-4468-987a-c782aab85681"
      },
      "source": [
        "sns.stripplot(x='import_id', y='cvt_per_day', data=TV,jitter=True)\n",
        "plt.show()\n",
        "print(TV['import_id'].value_counts())\n",
        "\n",
        "sns.stripplot(x='mpaa', y='cvt_per_day', data=TV,jitter=True)\n",
        "plt.show()\n",
        "print(TV['mpaa'].value_counts())\n",
        "\n",
        "sns.stripplot(x='awards', y='cvt_per_day', data=TV, jitter=True)\n",
        "plt.show()\n",
        "print(TV['awards'].value_counts())"
      ],
      "execution_count": null,
      "outputs": [
        {
          "output_type": "display_data",
          "data": {
            "image/png": "[encoded data removed]",
            "text/plain": [
              "<Figure size 432x288 with 1 Axes>"
            ]
          },
          "metadata": {
            "tags": []
          }
        },
        {
          "output_type": "stream",
          "text": [
            "other        2963\n",
            "lionsgate     677\n",
            "mgm           445\n",
            "paramount     141\n",
            "Name: import_id, dtype: int64\n"
          ],
          "name": "stdout"
        },
        {
          "output_type": "display_data",
          "data": {
            "image/png": "[encoded data removed]",
            "text/plain": [
              "<Figure size 432x288 with 1 Axes>"
            ]
          },
          "metadata": {
            "tags": []
          }
        },
        {
          "output_type": "stream",
          "text": [
            "NotRated    2158\n",
            "R           1158\n",
            "PG-13        426\n",
            "PG           353\n",
            "G            125\n",
            "NC-17          6\n",
            "Name: mpaa, dtype: int64\n"
          ],
          "name": "stdout"
        },
        {
          "output_type": "display_data",
          "data": {
            "image/png": "[encoded data removed]",
            "text/plain": [
              "<Figure size 432x288 with 1 Axes>"
            ]
          },
          "metadata": {
            "tags": []
          }
        },
        {
          "output_type": "stream",
          "text": [
            "no award        2569\n",
            "other award     1453\n",
            "Oscar            141\n",
            "Golden Globe      44\n",
            "BAFTA             19\n",
            "Name: awards, dtype: int64\n"
          ],
          "name": "stdout"
        }
      ]
    },
    {
      "cell_type": "markdown",
      "metadata": {
        "id": "4HU4Kd_l0lmt"
      },
      "source": [
        "### 1.3.2 Distribution of splited genres"
      ]
    },
    {
      "cell_type": "markdown",
      "metadata": {
        "id": "6p0LW_6K0xpj"
      },
      "source": [
        "Some videos belongs to more than 1 genre, the genre of each video is splited, this would help emphasize the effect of each individual genre."
      ]
    },
    {
      "cell_type": "code",
      "metadata": {
        "colab": {
          "base_uri": "https://localhost:8080/",
          "height": 853
        },
        "id": "I0RXWm-bhlpq",
        "outputId": "83ac3445-02f3-497c-827b-8b26be83370c"
      },
      "source": [
        "# generes explore, split the genre of each video\n",
        "gen_split = TV['genres'].str.get_dummies(sep=',').sum()\n",
        "print(gen_split)\n",
        "\n",
        "gen_split.sort_values(ascending=False).plot.bar()"
      ],
      "execution_count": null,
      "outputs": [
        {
          "output_type": "stream",
          "text": [
            "Action                    739\n",
            "Adult                       3\n",
            "Adventure                 363\n",
            "Animation                 129\n",
            "Anime                      11\n",
            "Comedy                   1184\n",
            "Crime                     437\n",
            "Documentary               671\n",
            "Drama                    1677\n",
            "Fantasy                   243\n",
            "Foreign/International      64\n",
            "Holiday                     1\n",
            "Horror                    762\n",
            "Independent               393\n",
            "Kids & Family             280\n",
            "LGBT                        2\n",
            "Lifestyle                   7\n",
            "Music                     171\n",
            "Musicals                   68\n",
            "Mystery                   375\n",
            "Reality                     9\n",
            "Romance                   591\n",
            "Sci-Fi                    363\n",
            "Sport                      77\n",
            "Thriller                  879\n",
            "War                       102\n",
            "Western                   102\n",
            "dtype: int64\n"
          ],
          "name": "stdout"
        },
        {
          "output_type": "execute_result",
          "data": {
            "text/plain": [
              "<matplotlib.axes._subplots.AxesSubplot at 0x7f68de3586d0>"
            ]
          },
          "metadata": {
            "tags": []
          },
          "execution_count": 70
        },
        {
          "output_type": "display_data",
          "data": {
            "image/png": "[encoded data removed]",
            "text/plain": [
              "<Figure size 432x288 with 1 Axes>"
            ]
          },
          "metadata": {
            "tags": []
          }
        }
      ]
    },
    {
      "cell_type": "markdown",
      "metadata": {
        "id": "f4DpGwy900nG"
      },
      "source": [
        "### 1.3.3 Distribution of release_year"
      ]
    },
    {
      "cell_type": "markdown",
      "metadata": {
        "id": "WtiAH_7m00tJ"
      },
      "source": [
        "The release year of video varies through a wide range. Considering the popularity of a video usually decays over time, the release_year should be bucketed based on the release_year range."
      ]
    },
    {
      "cell_type": "code",
      "metadata": {
        "colab": {
          "base_uri": "https://localhost:8080/",
          "height": 313
        },
        "id": "2zC-7REjisJ1",
        "outputId": "ce309b01-440d-4d7e-c268-83a4bc7e7c78"
      },
      "source": [
        "plt.hist(TV['release_year'].values, bins = range(1910, 2017, 1), alpha = 0.5, color='r', label = 'release_year')\n",
        "plt.legend(loc ='upper left')\n",
        "plt.title('Historgrams of release_year before data processing')\n",
        "plt.xlabel('release_year')\n",
        "plt.ylabel('Count')\n"
      ],
      "execution_count": null,
      "outputs": [
        {
          "output_type": "execute_result",
          "data": {
            "text/plain": [
              "Text(0, 0.5, 'Count')"
            ]
          },
          "metadata": {
            "tags": []
          },
          "execution_count": 75
        },
        {
          "output_type": "display_data",
          "data": {
            "image/png": "[encoded data removed]",
            "text/plain": [
              "<Figure size 432x288 with 1 Axes>"
            ]
          },
          "metadata": {
            "tags": []
          }
        }
      ]
    },
    {
      "cell_type": "markdown",
      "metadata": {
        "id": "fd1SnNRGDshS"
      },
      "source": [
        "After very basic Exploratory Data Analysis, we have to do some data cleaning and data preprocessing.\n",
        "We need three steps to finish  this.\n",
        "First, we need to encode the categorical feature.\n",
        "Second, we need to imput the missing value for both numeric and categorical feature.\n",
        "Third, we need to scale out feature, which can be better for our models' performance.\n",
        "\n"
      ]
    },
    {
      "cell_type": "markdown",
      "metadata": {
        "id": "-kAuJlbm1ydZ"
      },
      "source": [
        "# Part 2: Feature Preprocessing"
      ]
    },
    {
      "cell_type": "markdown",
      "metadata": {
        "id": "wHqQu2rK12AH"
      },
      "source": [
        "## 2.1 Categorical features"
      ]
    },
    {
      "cell_type": "markdown",
      "metadata": {
        "id": "VJZSa3w515W6"
      },
      "source": [
        "There are 5 categorical features: import_id, mpaa, awards, genres, and release_year. There is no missing data in them. They can be converted into dummy/indicators.\n",
        "\n",
        "The first 3 have relatively small sub-types, they can be easily converted to dummies.\n",
        "\n",
        "The 'genres' have 27 different sub-types, 6 of them are rarely observed (refer to previous section). It's reasonable to group these 6 together.\n",
        "\n",
        "The release_year is binned into 10 buckets based on the year range between 1917 and 2017."
      ]
    },
    {
      "cell_type": "code",
      "metadata": {
        "id": "R3khodpTBHoe"
      },
      "source": [
        "# !!!!!!!!!!!!!!!!!!!\n",
        "# split the data before converting it!!!\n",
        "# !!!!!!!!!!!!!!!!!!!\n",
        "#  haven't done yet\n",
        "# train, test = train_test_split(newTV_sc, test_size=0.15, random_state = 3)"
      ],
      "execution_count": null,
      "outputs": []
    },
    {
      "cell_type": "code",
      "metadata": {
        "id": "NhEq5dXLkkIo"
      },
      "source": [
        "# Convert 3 Categorical variables into dummy variables\n",
        "d_import_id = pd.get_dummies(TV['import_id'])\n",
        "d_mpaa = pd.get_dummies(TV['mpaa'])\n",
        "d_awards = pd.get_dummies(TV['awards'])"
      ],
      "execution_count": null,
      "outputs": []
    },
    {
      "cell_type": "code",
      "metadata": {
        "id": "-gF0IhvL2Edh"
      },
      "source": [
        "# Convert 'genres' into dummy variables and combine some rarely observed genres\n",
        "d_genres=TV['genres'].str.get_dummies(sep=',').astype(np.int64)\n",
        "d_genres['Misc_genres']=d_genres['Anime']|d_genres['Reality']|d_genres['Lifestyle']|d_genres['Adult']|d_genres['LGBT']|d_genres['Holiday']\n",
        "d_genres.drop(['Anime', 'Reality','Lifestyle', 'Adult','LGBT','Holiday'], inplace=True, axis=1)"
      ],
      "execution_count": null,
      "outputs": []
    },
    {
      "cell_type": "code",
      "metadata": {
        "colab": {
          "base_uri": "https://localhost:8080/",
          "height": 241
        },
        "id": "EejtVV_XZ3NS",
        "outputId": "658e09d9-b84e-46c8-b35d-a0bcd469aa7e"
      },
      "source": [
        "d_genres.head()"
      ],
      "execution_count": null,
      "outputs": [
        {
          "output_type": "execute_result",
          "data": {
            "text/html": [
              "<div>\n",
              "<style scoped>\n",
              "    .dataframe tbody tr th:only-of-type {\n",
              "        vertical-align: middle;\n",
              "    }\n",
              "\n",
              "    .dataframe tbody tr th {\n",
              "        vertical-align: top;\n",
              "    }\n",
              "\n",
              "    .dataframe thead th {\n",
              "        text-align: right;\n",
              "    }\n",
              "</style>\n",
              "<table border=\"1\" class=\"dataframe\">\n",
              "  <thead>\n",
              "    <tr style=\"text-align: right;\">\n",
              "      <th></th>\n",
              "      <th>Action</th>\n",
              "      <th>Adventure</th>\n",
              "      <th>Animation</th>\n",
              "      <th>Comedy</th>\n",
              "      <th>Crime</th>\n",
              "      <th>Documentary</th>\n",
              "      <th>Drama</th>\n",
              "      <th>Fantasy</th>\n",
              "      <th>Foreign/International</th>\n",
              "      <th>Horror</th>\n",
              "      <th>Independent</th>\n",
              "      <th>Kids &amp; Family</th>\n",
              "      <th>Music</th>\n",
              "      <th>Musicals</th>\n",
              "      <th>Mystery</th>\n",
              "      <th>Romance</th>\n",
              "      <th>Sci-Fi</th>\n",
              "      <th>Sport</th>\n",
              "      <th>Thriller</th>\n",
              "      <th>War</th>\n",
              "      <th>Western</th>\n",
              "      <th>Misc_genres</th>\n",
              "    </tr>\n",
              "  </thead>\n",
              "  <tbody>\n",
              "    <tr>\n",
              "      <th>0</th>\n",
              "      <td>1</td>\n",
              "      <td>0</td>\n",
              "      <td>0</td>\n",
              "      <td>0</td>\n",
              "      <td>0</td>\n",
              "      <td>0</td>\n",
              "      <td>1</td>\n",
              "      <td>0</td>\n",
              "      <td>0</td>\n",
              "      <td>0</td>\n",
              "      <td>0</td>\n",
              "      <td>0</td>\n",
              "      <td>0</td>\n",
              "      <td>0</td>\n",
              "      <td>0</td>\n",
              "      <td>0</td>\n",
              "      <td>0</td>\n",
              "      <td>0</td>\n",
              "      <td>1</td>\n",
              "      <td>0</td>\n",
              "      <td>0</td>\n",
              "      <td>0</td>\n",
              "    </tr>\n",
              "    <tr>\n",
              "      <th>1</th>\n",
              "      <td>0</td>\n",
              "      <td>0</td>\n",
              "      <td>0</td>\n",
              "      <td>1</td>\n",
              "      <td>1</td>\n",
              "      <td>0</td>\n",
              "      <td>0</td>\n",
              "      <td>0</td>\n",
              "      <td>0</td>\n",
              "      <td>0</td>\n",
              "      <td>0</td>\n",
              "      <td>0</td>\n",
              "      <td>0</td>\n",
              "      <td>0</td>\n",
              "      <td>0</td>\n",
              "      <td>0</td>\n",
              "      <td>0</td>\n",
              "      <td>0</td>\n",
              "      <td>1</td>\n",
              "      <td>0</td>\n",
              "      <td>0</td>\n",
              "      <td>0</td>\n",
              "    </tr>\n",
              "    <tr>\n",
              "      <th>2</th>\n",
              "      <td>0</td>\n",
              "      <td>0</td>\n",
              "      <td>0</td>\n",
              "      <td>0</td>\n",
              "      <td>1</td>\n",
              "      <td>0</td>\n",
              "      <td>1</td>\n",
              "      <td>0</td>\n",
              "      <td>0</td>\n",
              "      <td>0</td>\n",
              "      <td>0</td>\n",
              "      <td>0</td>\n",
              "      <td>0</td>\n",
              "      <td>0</td>\n",
              "      <td>0</td>\n",
              "      <td>0</td>\n",
              "      <td>0</td>\n",
              "      <td>0</td>\n",
              "      <td>0</td>\n",
              "      <td>0</td>\n",
              "      <td>0</td>\n",
              "      <td>0</td>\n",
              "    </tr>\n",
              "    <tr>\n",
              "      <th>3</th>\n",
              "      <td>1</td>\n",
              "      <td>0</td>\n",
              "      <td>0</td>\n",
              "      <td>0</td>\n",
              "      <td>0</td>\n",
              "      <td>1</td>\n",
              "      <td>1</td>\n",
              "      <td>0</td>\n",
              "      <td>0</td>\n",
              "      <td>0</td>\n",
              "      <td>0</td>\n",
              "      <td>0</td>\n",
              "      <td>0</td>\n",
              "      <td>0</td>\n",
              "      <td>1</td>\n",
              "      <td>0</td>\n",
              "      <td>0</td>\n",
              "      <td>0</td>\n",
              "      <td>1</td>\n",
              "      <td>1</td>\n",
              "      <td>0</td>\n",
              "      <td>0</td>\n",
              "    </tr>\n",
              "    <tr>\n",
              "      <th>4</th>\n",
              "      <td>0</td>\n",
              "      <td>0</td>\n",
              "      <td>0</td>\n",
              "      <td>0</td>\n",
              "      <td>1</td>\n",
              "      <td>1</td>\n",
              "      <td>0</td>\n",
              "      <td>0</td>\n",
              "      <td>0</td>\n",
              "      <td>0</td>\n",
              "      <td>0</td>\n",
              "      <td>0</td>\n",
              "      <td>0</td>\n",
              "      <td>0</td>\n",
              "      <td>1</td>\n",
              "      <td>0</td>\n",
              "      <td>0</td>\n",
              "      <td>0</td>\n",
              "      <td>1</td>\n",
              "      <td>0</td>\n",
              "      <td>0</td>\n",
              "      <td>0</td>\n",
              "    </tr>\n",
              "  </tbody>\n",
              "</table>\n",
              "</div>"
            ],
            "text/plain": [
              "   Action  Adventure  Animation  Comedy  Crime  Documentary  Drama  Fantasy  \\\n",
              "0       1          0          0       0      0            0      1        0   \n",
              "1       0          0          0       1      1            0      0        0   \n",
              "2       0          0          0       0      1            0      1        0   \n",
              "3       1          0          0       0      0            1      1        0   \n",
              "4       0          0          0       0      1            1      0        0   \n",
              "\n",
              "   Foreign/International  Horror  Independent  Kids & Family  Music  Musicals  \\\n",
              "0                      0       0            0              0      0         0   \n",
              "1                      0       0            0              0      0         0   \n",
              "2                      0       0            0              0      0         0   \n",
              "3                      0       0            0              0      0         0   \n",
              "4                      0       0            0              0      0         0   \n",
              "\n",
              "   Mystery  Romance  Sci-Fi  Sport  Thriller  War  Western  Misc_genres  \n",
              "0        0        0       0      0         1    0        0            0  \n",
              "1        0        0       0      0         1    0        0            0  \n",
              "2        0        0       0      0         0    0        0            0  \n",
              "3        1        0       0      0         1    1        0            0  \n",
              "4        1        0       0      0         1    0        0            0  "
            ]
          },
          "metadata": {
            "tags": []
          },
          "execution_count": 28
        }
      ]
    },
    {
      "cell_type": "code",
      "metadata": {
        "colab": {
          "base_uri": "https://localhost:8080/"
        },
        "id": "rrYuplqCU4uH",
        "outputId": "f70c2759-73d8-41a3-bdaa-9b6c7fa80e59"
      },
      "source": [
        "TV['release_year'].quantile([0.1,0.2,0.3,0.4,0.5,0.6,0.7,0.8,0.9])"
      ],
      "execution_count": null,
      "outputs": [
        {
          "output_type": "execute_result",
          "data": {
            "text/plain": [
              "0.100   1974.000\n",
              "0.200   1991.000\n",
              "0.300   2001.000\n",
              "0.400   2006.000\n",
              "0.500   2008.000\n",
              "0.600   2010.000\n",
              "0.700   2012.000\n",
              "0.800   2013.000\n",
              "0.900   2014.000\n",
              "Name: release_year, dtype: float64"
            ]
          },
          "metadata": {
            "tags": []
          },
          "execution_count": 24
        }
      ]
    },
    {
      "cell_type": "code",
      "metadata": {
        "colab": {
          "base_uri": "https://localhost:8080/",
          "height": 221
        },
        "id": "2stB_bL3n1Uv",
        "outputId": "3f69f938-2744-461a-b754-7509d596a6e9"
      },
      "source": [
        "# bin release_year and convert into dummies\n",
        "bin_year = [1916, 1974, 1991, 2001, 2006, 2008, 2010, 2012, 2013, 2014, 2017]\n",
        "year_range = ['1916-1974', '1974-1991', '1991-2001', '2001-2006','2006-2008','2008-2010','2010-2012','2012-2013',\n",
        "              '2013-2014','2014-2017']\n",
        "year_bin = pd.cut(TV['release_year'], bin_year, labels=year_range)\n",
        "d_year = pd.get_dummies(year_bin)\n",
        "d_year.head()"
      ],
      "execution_count": null,
      "outputs": [
        {
          "output_type": "execute_result",
          "data": {
            "text/html": [
              "<div>\n",
              "<style scoped>\n",
              "    .dataframe tbody tr th:only-of-type {\n",
              "        vertical-align: middle;\n",
              "    }\n",
              "\n",
              "    .dataframe tbody tr th {\n",
              "        vertical-align: top;\n",
              "    }\n",
              "\n",
              "    .dataframe thead th {\n",
              "        text-align: right;\n",
              "    }\n",
              "</style>\n",
              "<table border=\"1\" class=\"dataframe\">\n",
              "  <thead>\n",
              "    <tr style=\"text-align: right;\">\n",
              "      <th></th>\n",
              "      <th>1916-1974</th>\n",
              "      <th>1974-1991</th>\n",
              "      <th>1991-2001</th>\n",
              "      <th>2001-2006</th>\n",
              "      <th>2006-2008</th>\n",
              "      <th>2008-2010</th>\n",
              "      <th>2010-2012</th>\n",
              "      <th>2012-2013</th>\n",
              "      <th>2013-2014</th>\n",
              "      <th>2014-2017</th>\n",
              "    </tr>\n",
              "  </thead>\n",
              "  <tbody>\n",
              "    <tr>\n",
              "      <th>0</th>\n",
              "      <td>0</td>\n",
              "      <td>0</td>\n",
              "      <td>0</td>\n",
              "      <td>0</td>\n",
              "      <td>0</td>\n",
              "      <td>0</td>\n",
              "      <td>0</td>\n",
              "      <td>1</td>\n",
              "      <td>0</td>\n",
              "      <td>0</td>\n",
              "    </tr>\n",
              "    <tr>\n",
              "      <th>1</th>\n",
              "      <td>0</td>\n",
              "      <td>0</td>\n",
              "      <td>0</td>\n",
              "      <td>0</td>\n",
              "      <td>0</td>\n",
              "      <td>0</td>\n",
              "      <td>0</td>\n",
              "      <td>1</td>\n",
              "      <td>0</td>\n",
              "      <td>0</td>\n",
              "    </tr>\n",
              "    <tr>\n",
              "      <th>2</th>\n",
              "      <td>0</td>\n",
              "      <td>0</td>\n",
              "      <td>0</td>\n",
              "      <td>0</td>\n",
              "      <td>0</td>\n",
              "      <td>0</td>\n",
              "      <td>1</td>\n",
              "      <td>0</td>\n",
              "      <td>0</td>\n",
              "      <td>0</td>\n",
              "    </tr>\n",
              "    <tr>\n",
              "      <th>3</th>\n",
              "      <td>0</td>\n",
              "      <td>0</td>\n",
              "      <td>0</td>\n",
              "      <td>0</td>\n",
              "      <td>1</td>\n",
              "      <td>0</td>\n",
              "      <td>0</td>\n",
              "      <td>0</td>\n",
              "      <td>0</td>\n",
              "      <td>0</td>\n",
              "    </tr>\n",
              "    <tr>\n",
              "      <th>4</th>\n",
              "      <td>0</td>\n",
              "      <td>0</td>\n",
              "      <td>0</td>\n",
              "      <td>0</td>\n",
              "      <td>0</td>\n",
              "      <td>0</td>\n",
              "      <td>0</td>\n",
              "      <td>1</td>\n",
              "      <td>0</td>\n",
              "      <td>0</td>\n",
              "    </tr>\n",
              "  </tbody>\n",
              "</table>\n",
              "</div>"
            ],
            "text/plain": [
              "   1916-1974  1974-1991  1991-2001  2001-2006  2006-2008  2008-2010  \\\n",
              "0          0          0          0          0          0          0   \n",
              "1          0          0          0          0          0          0   \n",
              "2          0          0          0          0          0          0   \n",
              "3          0          0          0          0          1          0   \n",
              "4          0          0          0          0          0          0   \n",
              "\n",
              "   2010-2012  2012-2013  2013-2014  2014-2017  \n",
              "0          0          1          0          0  \n",
              "1          0          1          0          0  \n",
              "2          1          0          0          0  \n",
              "3          0          0          0          0  \n",
              "4          0          1          0          0  "
            ]
          },
          "metadata": {
            "tags": []
          },
          "execution_count": 6
        }
      ]
    },
    {
      "cell_type": "code",
      "metadata": {
        "colab": {
          "base_uri": "https://localhost:8080/",
          "height": 241
        },
        "id": "MjdlBN_roOZO",
        "outputId": "d202e71e-2c4f-4f09-8cc9-0b2339e8700b"
      },
      "source": [
        "# new dataframe, drop the previous categorical features, add new dummy variables, check for null\n",
        "\n",
        "temp_tv=TV.drop(['import_id', 'mpaa','awards','genres', 'release_year'], axis=1)\n",
        "\n",
        "newTV = pd.concat([temp_tv, d_import_id, d_mpaa, d_awards, d_genres, d_year], axis=1)\n",
        "newTV.head()"
      ],
      "execution_count": null,
      "outputs": [
        {
          "output_type": "execute_result",
          "data": {
            "text/html": [
              "<div>\n",
              "<style scoped>\n",
              "    .dataframe tbody tr th:only-of-type {\n",
              "        vertical-align: middle;\n",
              "    }\n",
              "\n",
              "    .dataframe tbody tr th {\n",
              "        vertical-align: top;\n",
              "    }\n",
              "\n",
              "    .dataframe thead th {\n",
              "        text-align: right;\n",
              "    }\n",
              "</style>\n",
              "<table border=\"1\" class=\"dataframe\">\n",
              "  <thead>\n",
              "    <tr style=\"text-align: right;\">\n",
              "      <th></th>\n",
              "      <th>video_id</th>\n",
              "      <th>cvt_per_day</th>\n",
              "      <th>weighted_categorical_position</th>\n",
              "      <th>weighted_horizontal_poition</th>\n",
              "      <th>imdb_votes</th>\n",
              "      <th>budget</th>\n",
              "      <th>boxoffice</th>\n",
              "      <th>imdb_rating</th>\n",
              "      <th>duration_in_mins</th>\n",
              "      <th>metacritic_score</th>\n",
              "      <th>star_category</th>\n",
              "      <th>lionsgate</th>\n",
              "      <th>mgm</th>\n",
              "      <th>other</th>\n",
              "      <th>paramount</th>\n",
              "      <th>G</th>\n",
              "      <th>NC-17</th>\n",
              "      <th>NotRated</th>\n",
              "      <th>PG</th>\n",
              "      <th>PG-13</th>\n",
              "      <th>R</th>\n",
              "      <th>BAFTA</th>\n",
              "      <th>Golden Globe</th>\n",
              "      <th>Oscar</th>\n",
              "      <th>no award</th>\n",
              "      <th>other award</th>\n",
              "      <th>Action</th>\n",
              "      <th>Adventure</th>\n",
              "      <th>Animation</th>\n",
              "      <th>Comedy</th>\n",
              "      <th>Crime</th>\n",
              "      <th>Documentary</th>\n",
              "      <th>Drama</th>\n",
              "      <th>Fantasy</th>\n",
              "      <th>Foreign/International</th>\n",
              "      <th>Horror</th>\n",
              "      <th>Independent</th>\n",
              "      <th>Kids &amp; Family</th>\n",
              "      <th>Music</th>\n",
              "      <th>Musicals</th>\n",
              "      <th>Mystery</th>\n",
              "      <th>Romance</th>\n",
              "      <th>Sci-Fi</th>\n",
              "      <th>Sport</th>\n",
              "      <th>Thriller</th>\n",
              "      <th>War</th>\n",
              "      <th>Western</th>\n",
              "      <th>Misc_genres</th>\n",
              "      <th>1916-1974</th>\n",
              "      <th>1974-1991</th>\n",
              "      <th>1991-2001</th>\n",
              "      <th>2001-2006</th>\n",
              "      <th>2006-2008</th>\n",
              "      <th>2008-2010</th>\n",
              "      <th>2010-2012</th>\n",
              "      <th>2012-2013</th>\n",
              "      <th>2013-2014</th>\n",
              "      <th>2014-2017</th>\n",
              "    </tr>\n",
              "  </thead>\n",
              "  <tbody>\n",
              "    <tr>\n",
              "      <th>0</th>\n",
              "      <td>385504</td>\n",
              "      <td>307127.606</td>\n",
              "      <td>1</td>\n",
              "      <td>3</td>\n",
              "      <td>69614</td>\n",
              "      <td>15000000</td>\n",
              "      <td>42930462</td>\n",
              "      <td>6.500</td>\n",
              "      <td>112.301</td>\n",
              "      <td>51</td>\n",
              "      <td>1.710</td>\n",
              "      <td>1</td>\n",
              "      <td>0</td>\n",
              "      <td>0</td>\n",
              "      <td>0</td>\n",
              "      <td>0</td>\n",
              "      <td>0</td>\n",
              "      <td>0</td>\n",
              "      <td>0</td>\n",
              "      <td>1</td>\n",
              "      <td>0</td>\n",
              "      <td>0</td>\n",
              "      <td>0</td>\n",
              "      <td>0</td>\n",
              "      <td>0</td>\n",
              "      <td>1</td>\n",
              "      <td>1</td>\n",
              "      <td>0</td>\n",
              "      <td>0</td>\n",
              "      <td>0</td>\n",
              "      <td>0</td>\n",
              "      <td>0</td>\n",
              "      <td>1</td>\n",
              "      <td>0</td>\n",
              "      <td>0</td>\n",
              "      <td>0</td>\n",
              "      <td>0</td>\n",
              "      <td>0</td>\n",
              "      <td>0</td>\n",
              "      <td>0</td>\n",
              "      <td>0</td>\n",
              "      <td>0</td>\n",
              "      <td>0</td>\n",
              "      <td>0</td>\n",
              "      <td>1</td>\n",
              "      <td>0</td>\n",
              "      <td>0</td>\n",
              "      <td>0</td>\n",
              "      <td>0</td>\n",
              "      <td>0</td>\n",
              "      <td>0</td>\n",
              "      <td>0</td>\n",
              "      <td>0</td>\n",
              "      <td>0</td>\n",
              "      <td>0</td>\n",
              "      <td>1</td>\n",
              "      <td>0</td>\n",
              "      <td>0</td>\n",
              "    </tr>\n",
              "    <tr>\n",
              "      <th>1</th>\n",
              "      <td>300175</td>\n",
              "      <td>270338.426</td>\n",
              "      <td>1</td>\n",
              "      <td>3</td>\n",
              "      <td>46705</td>\n",
              "      <td>15000000</td>\n",
              "      <td>3301046</td>\n",
              "      <td>6.500</td>\n",
              "      <td>94.983</td>\n",
              "      <td>41</td>\n",
              "      <td>3.250</td>\n",
              "      <td>1</td>\n",
              "      <td>0</td>\n",
              "      <td>0</td>\n",
              "      <td>0</td>\n",
              "      <td>0</td>\n",
              "      <td>0</td>\n",
              "      <td>0</td>\n",
              "      <td>0</td>\n",
              "      <td>0</td>\n",
              "      <td>1</td>\n",
              "      <td>0</td>\n",
              "      <td>0</td>\n",
              "      <td>0</td>\n",
              "      <td>1</td>\n",
              "      <td>0</td>\n",
              "      <td>0</td>\n",
              "      <td>0</td>\n",
              "      <td>0</td>\n",
              "      <td>1</td>\n",
              "      <td>1</td>\n",
              "      <td>0</td>\n",
              "      <td>0</td>\n",
              "      <td>0</td>\n",
              "      <td>0</td>\n",
              "      <td>0</td>\n",
              "      <td>0</td>\n",
              "      <td>0</td>\n",
              "      <td>0</td>\n",
              "      <td>0</td>\n",
              "      <td>0</td>\n",
              "      <td>0</td>\n",
              "      <td>0</td>\n",
              "      <td>0</td>\n",
              "      <td>1</td>\n",
              "      <td>0</td>\n",
              "      <td>0</td>\n",
              "      <td>0</td>\n",
              "      <td>0</td>\n",
              "      <td>0</td>\n",
              "      <td>0</td>\n",
              "      <td>0</td>\n",
              "      <td>0</td>\n",
              "      <td>0</td>\n",
              "      <td>0</td>\n",
              "      <td>1</td>\n",
              "      <td>0</td>\n",
              "      <td>0</td>\n",
              "    </tr>\n",
              "    <tr>\n",
              "      <th>2</th>\n",
              "      <td>361899</td>\n",
              "      <td>256165.867</td>\n",
              "      <td>1</td>\n",
              "      <td>3</td>\n",
              "      <td>197596</td>\n",
              "      <td>26000000</td>\n",
              "      <td>37397291</td>\n",
              "      <td>7.300</td>\n",
              "      <td>115.764</td>\n",
              "      <td>58</td>\n",
              "      <td>2.647</td>\n",
              "      <td>0</td>\n",
              "      <td>0</td>\n",
              "      <td>1</td>\n",
              "      <td>0</td>\n",
              "      <td>0</td>\n",
              "      <td>0</td>\n",
              "      <td>0</td>\n",
              "      <td>0</td>\n",
              "      <td>0</td>\n",
              "      <td>1</td>\n",
              "      <td>0</td>\n",
              "      <td>0</td>\n",
              "      <td>0</td>\n",
              "      <td>0</td>\n",
              "      <td>1</td>\n",
              "      <td>0</td>\n",
              "      <td>0</td>\n",
              "      <td>0</td>\n",
              "      <td>0</td>\n",
              "      <td>1</td>\n",
              "      <td>0</td>\n",
              "      <td>1</td>\n",
              "      <td>0</td>\n",
              "      <td>0</td>\n",
              "      <td>0</td>\n",
              "      <td>0</td>\n",
              "      <td>0</td>\n",
              "      <td>0</td>\n",
              "      <td>0</td>\n",
              "      <td>0</td>\n",
              "      <td>0</td>\n",
              "      <td>0</td>\n",
              "      <td>0</td>\n",
              "      <td>0</td>\n",
              "      <td>0</td>\n",
              "      <td>0</td>\n",
              "      <td>0</td>\n",
              "      <td>0</td>\n",
              "      <td>0</td>\n",
              "      <td>0</td>\n",
              "      <td>0</td>\n",
              "      <td>0</td>\n",
              "      <td>0</td>\n",
              "      <td>1</td>\n",
              "      <td>0</td>\n",
              "      <td>0</td>\n",
              "      <td>0</td>\n",
              "    </tr>\n",
              "    <tr>\n",
              "      <th>3</th>\n",
              "      <td>308314</td>\n",
              "      <td>196622.721</td>\n",
              "      <td>3</td>\n",
              "      <td>4</td>\n",
              "      <td>356339</td>\n",
              "      <td>15000000</td>\n",
              "      <td>15700000</td>\n",
              "      <td>7.600</td>\n",
              "      <td>130.704</td>\n",
              "      <td>94</td>\n",
              "      <td>1.667</td>\n",
              "      <td>1</td>\n",
              "      <td>0</td>\n",
              "      <td>0</td>\n",
              "      <td>0</td>\n",
              "      <td>0</td>\n",
              "      <td>0</td>\n",
              "      <td>0</td>\n",
              "      <td>0</td>\n",
              "      <td>0</td>\n",
              "      <td>1</td>\n",
              "      <td>0</td>\n",
              "      <td>0</td>\n",
              "      <td>1</td>\n",
              "      <td>0</td>\n",
              "      <td>0</td>\n",
              "      <td>1</td>\n",
              "      <td>0</td>\n",
              "      <td>0</td>\n",
              "      <td>0</td>\n",
              "      <td>0</td>\n",
              "      <td>1</td>\n",
              "      <td>1</td>\n",
              "      <td>0</td>\n",
              "      <td>0</td>\n",
              "      <td>0</td>\n",
              "      <td>0</td>\n",
              "      <td>0</td>\n",
              "      <td>0</td>\n",
              "      <td>0</td>\n",
              "      <td>1</td>\n",
              "      <td>0</td>\n",
              "      <td>0</td>\n",
              "      <td>0</td>\n",
              "      <td>1</td>\n",
              "      <td>1</td>\n",
              "      <td>0</td>\n",
              "      <td>0</td>\n",
              "      <td>0</td>\n",
              "      <td>0</td>\n",
              "      <td>0</td>\n",
              "      <td>0</td>\n",
              "      <td>1</td>\n",
              "      <td>0</td>\n",
              "      <td>0</td>\n",
              "      <td>0</td>\n",
              "      <td>0</td>\n",
              "      <td>0</td>\n",
              "    </tr>\n",
              "    <tr>\n",
              "      <th>4</th>\n",
              "      <td>307201</td>\n",
              "      <td>159841.652</td>\n",
              "      <td>1</td>\n",
              "      <td>3</td>\n",
              "      <td>46720</td>\n",
              "      <td>27220000</td>\n",
              "      <td>8551228</td>\n",
              "      <td>6.400</td>\n",
              "      <td>105.546</td>\n",
              "      <td>37</td>\n",
              "      <td>3.067</td>\n",
              "      <td>1</td>\n",
              "      <td>0</td>\n",
              "      <td>0</td>\n",
              "      <td>0</td>\n",
              "      <td>0</td>\n",
              "      <td>0</td>\n",
              "      <td>0</td>\n",
              "      <td>0</td>\n",
              "      <td>0</td>\n",
              "      <td>1</td>\n",
              "      <td>0</td>\n",
              "      <td>0</td>\n",
              "      <td>0</td>\n",
              "      <td>0</td>\n",
              "      <td>1</td>\n",
              "      <td>0</td>\n",
              "      <td>0</td>\n",
              "      <td>0</td>\n",
              "      <td>0</td>\n",
              "      <td>1</td>\n",
              "      <td>1</td>\n",
              "      <td>0</td>\n",
              "      <td>0</td>\n",
              "      <td>0</td>\n",
              "      <td>0</td>\n",
              "      <td>0</td>\n",
              "      <td>0</td>\n",
              "      <td>0</td>\n",
              "      <td>0</td>\n",
              "      <td>1</td>\n",
              "      <td>0</td>\n",
              "      <td>0</td>\n",
              "      <td>0</td>\n",
              "      <td>1</td>\n",
              "      <td>0</td>\n",
              "      <td>0</td>\n",
              "      <td>0</td>\n",
              "      <td>0</td>\n",
              "      <td>0</td>\n",
              "      <td>0</td>\n",
              "      <td>0</td>\n",
              "      <td>0</td>\n",
              "      <td>0</td>\n",
              "      <td>0</td>\n",
              "      <td>1</td>\n",
              "      <td>0</td>\n",
              "      <td>0</td>\n",
              "    </tr>\n",
              "  </tbody>\n",
              "</table>\n",
              "</div>"
            ],
            "text/plain": [
              "   video_id  cvt_per_day  weighted_categorical_position  \\\n",
              "0    385504   307127.606                              1   \n",
              "1    300175   270338.426                              1   \n",
              "2    361899   256165.867                              1   \n",
              "3    308314   196622.721                              3   \n",
              "4    307201   159841.652                              1   \n",
              "\n",
              "   weighted_horizontal_poition  imdb_votes    budget  boxoffice  imdb_rating  \\\n",
              "0                            3       69614  15000000   42930462        6.500   \n",
              "1                            3       46705  15000000    3301046        6.500   \n",
              "2                            3      197596  26000000   37397291        7.300   \n",
              "3                            4      356339  15000000   15700000        7.600   \n",
              "4                            3       46720  27220000    8551228        6.400   \n",
              "\n",
              "   duration_in_mins  metacritic_score  star_category  lionsgate  mgm  other  \\\n",
              "0           112.301                51          1.710          1    0      0   \n",
              "1            94.983                41          3.250          1    0      0   \n",
              "2           115.764                58          2.647          0    0      1   \n",
              "3           130.704                94          1.667          1    0      0   \n",
              "4           105.546                37          3.067          1    0      0   \n",
              "\n",
              "   paramount  G  NC-17  NotRated  PG  PG-13  R  BAFTA  Golden Globe  Oscar  \\\n",
              "0          0  0      0         0   0      1  0      0             0      0   \n",
              "1          0  0      0         0   0      0  1      0             0      0   \n",
              "2          0  0      0         0   0      0  1      0             0      0   \n",
              "3          0  0      0         0   0      0  1      0             0      1   \n",
              "4          0  0      0         0   0      0  1      0             0      0   \n",
              "\n",
              "   no award  other award  Action  Adventure  Animation  Comedy  Crime  \\\n",
              "0         0            1       1          0          0       0      0   \n",
              "1         1            0       0          0          0       1      1   \n",
              "2         0            1       0          0          0       0      1   \n",
              "3         0            0       1          0          0       0      0   \n",
              "4         0            1       0          0          0       0      1   \n",
              "\n",
              "   Documentary  Drama  Fantasy  Foreign/International  Horror  Independent  \\\n",
              "0            0      1        0                      0       0            0   \n",
              "1            0      0        0                      0       0            0   \n",
              "2            0      1        0                      0       0            0   \n",
              "3            1      1        0                      0       0            0   \n",
              "4            1      0        0                      0       0            0   \n",
              "\n",
              "   Kids & Family  Music  Musicals  Mystery  Romance  Sci-Fi  Sport  Thriller  \\\n",
              "0              0      0         0        0        0       0      0         1   \n",
              "1              0      0         0        0        0       0      0         1   \n",
              "2              0      0         0        0        0       0      0         0   \n",
              "3              0      0         0        1        0       0      0         1   \n",
              "4              0      0         0        1        0       0      0         1   \n",
              "\n",
              "   War  Western  Misc_genres  1916-1974  1974-1991  1991-2001  2001-2006  \\\n",
              "0    0        0            0          0          0          0          0   \n",
              "1    0        0            0          0          0          0          0   \n",
              "2    0        0            0          0          0          0          0   \n",
              "3    1        0            0          0          0          0          0   \n",
              "4    0        0            0          0          0          0          0   \n",
              "\n",
              "   2006-2008  2008-2010  2010-2012  2012-2013  2013-2014  2014-2017  \n",
              "0          0          0          0          1          0          0  \n",
              "1          0          0          0          1          0          0  \n",
              "2          0          0          1          0          0          0  \n",
              "3          1          0          0          0          0          0  \n",
              "4          0          0          0          1          0          0  "
            ]
          },
          "metadata": {
            "tags": []
          },
          "execution_count": 7
        }
      ]
    },
    {
      "cell_type": "markdown",
      "metadata": {
        "id": "N76z14XL2f2n"
      },
      "source": [
        "## 2.2 Missing data"
      ]
    },
    {
      "cell_type": "markdown",
      "metadata": {
        "id": "Z5nrzz8i2kgs"
      },
      "source": [
        "Among the 10 numerical features (not include video_id), 4 features have over 25% of missing values (shown as '0', which is not possible in reality): budget, boxoffice, metacritic_score, star_category. 2 features have less than 10% of missing data: imdb_votes, imdb_rating.\n",
        "\n",
        "There are 3242 samples have at least one missing data."
      ]
    },
    {
      "cell_type": "markdown",
      "metadata": {
        "id": "yEsN836gC4Zw"
      },
      "source": [
        "Right Now we have to deal with the missing data. According to the data info, there is no Null value in our dataset.\n",
        "That's good, but we have to be catious, cause zero value can be a very good candidate for missing data. \n",
        "So we have to check the ratio of zero value in our numeric feature"
      ]
    },
    {
      "cell_type": "code",
      "metadata": {
        "colab": {
          "base_uri": "https://localhost:8080/"
        },
        "id": "WxdTKOiMDdD5",
        "outputId": "9b900ebd-ef58-48ce-9a59-0e0b5bb92743"
      },
      "source": [
        "newTV[['budget','boxoffice','metacritic_score', 'star_category','imdb_votes', 'imdb_rating']] = newTV[['budget','boxoffice','metacritic_score', 'star_category','imdb_votes', 'imdb_rating']].replace(0, np.nan)\n",
        "newTV.info()"
      ],
      "execution_count": null,
      "outputs": [
        {
          "output_type": "stream",
          "text": [
            "<class 'pandas.core.frame.DataFrame'>\n",
            "RangeIndex: 4226 entries, 0 to 4225\n",
            "Data columns (total 58 columns):\n",
            " #   Column                         Non-Null Count  Dtype  \n",
            "---  ------                         --------------  -----  \n",
            " 0   video_id                       4226 non-null   int64  \n",
            " 1   cvt_per_day                    4226 non-null   float64\n",
            " 2   weighted_categorical_position  4226 non-null   int64  \n",
            " 3   weighted_horizontal_poition    4226 non-null   int64  \n",
            " 4   imdb_votes                     3882 non-null   float64\n",
            " 5   budget                         1772 non-null   float64\n",
            " 6   boxoffice                      1032 non-null   float64\n",
            " 7   imdb_rating                    3882 non-null   float64\n",
            " 8   duration_in_mins               4226 non-null   float64\n",
            " 9   metacritic_score               1214 non-null   float64\n",
            " 10  star_category                  2380 non-null   float64\n",
            " 11  lionsgate                      4226 non-null   uint8  \n",
            " 12  mgm                            4226 non-null   uint8  \n",
            " 13  other                          4226 non-null   uint8  \n",
            " 14  paramount                      4226 non-null   uint8  \n",
            " 15  G                              4226 non-null   uint8  \n",
            " 16  NC-17                          4226 non-null   uint8  \n",
            " 17  NotRated                       4226 non-null   uint8  \n",
            " 18  PG                             4226 non-null   uint8  \n",
            " 19  PG-13                          4226 non-null   uint8  \n",
            " 20  R                              4226 non-null   uint8  \n",
            " 21  BAFTA                          4226 non-null   uint8  \n",
            " 22  Golden Globe                   4226 non-null   uint8  \n",
            " 23  Oscar                          4226 non-null   uint8  \n",
            " 24  no award                       4226 non-null   uint8  \n",
            " 25  other award                    4226 non-null   uint8  \n",
            " 26  Action                         4226 non-null   int64  \n",
            " 27  Adventure                      4226 non-null   int64  \n",
            " 28  Animation                      4226 non-null   int64  \n",
            " 29  Comedy                         4226 non-null   int64  \n",
            " 30  Crime                          4226 non-null   int64  \n",
            " 31  Documentary                    4226 non-null   int64  \n",
            " 32  Drama                          4226 non-null   int64  \n",
            " 33  Fantasy                        4226 non-null   int64  \n",
            " 34  Foreign/International          4226 non-null   int64  \n",
            " 35  Horror                         4226 non-null   int64  \n",
            " 36  Independent                    4226 non-null   int64  \n",
            " 37  Kids & Family                  4226 non-null   int64  \n",
            " 38  Music                          4226 non-null   int64  \n",
            " 39  Musicals                       4226 non-null   int64  \n",
            " 40  Mystery                        4226 non-null   int64  \n",
            " 41  Romance                        4226 non-null   int64  \n",
            " 42  Sci-Fi                         4226 non-null   int64  \n",
            " 43  Sport                          4226 non-null   int64  \n",
            " 44  Thriller                       4226 non-null   int64  \n",
            " 45  War                            4226 non-null   int64  \n",
            " 46  Western                        4226 non-null   int64  \n",
            " 47  Misc_genres                    4226 non-null   int64  \n",
            " 48  1916-1974                      4226 non-null   uint8  \n",
            " 49  1974-1991                      4226 non-null   uint8  \n",
            " 50  1991-2001                      4226 non-null   uint8  \n",
            " 51  2001-2006                      4226 non-null   uint8  \n",
            " 52  2006-2008                      4226 non-null   uint8  \n",
            " 53  2008-2010                      4226 non-null   uint8  \n",
            " 54  2010-2012                      4226 non-null   uint8  \n",
            " 55  2012-2013                      4226 non-null   uint8  \n",
            " 56  2013-2014                      4226 non-null   uint8  \n",
            " 57  2014-2017                      4226 non-null   uint8  \n",
            "dtypes: float64(8), int64(25), uint8(25)\n",
            "memory usage: 1.2 MB\n"
          ],
          "name": "stdout"
        }
      ]
    },
    {
      "cell_type": "markdown",
      "metadata": {
        "id": "Q9BKknWx3k9l"
      },
      "source": [
        "Filling missing data with mean value"
      ]
    },
    {
      "cell_type": "code",
      "metadata": {
        "colab": {
          "base_uri": "https://localhost:8080/"
        },
        "id": "Jf8oxZlD3ap5",
        "outputId": "c29dcbc7-d06c-4936-86c5-3af217e7c806"
      },
      "source": [
        "newTV1=newTV.copy()\n",
        "newTV1['boxoffice']=newTV1['boxoffice'].fillna(newTV1['boxoffice'].mean())\n",
        "newTV1['metacritic_score']=newTV1['metacritic_score'].fillna(newTV1['metacritic_score'].mean())\n",
        "newTV1['star_category']=newTV1['star_category'].fillna(newTV1['star_category'].mean())\n",
        "newTV1['imdb_votes']=newTV1['imdb_votes'].fillna(newTV1['imdb_votes'].mean())\n",
        "newTV1['imdb_rating']=newTV1['imdb_rating'].fillna(newTV1['imdb_rating'].mean())\n",
        "newTV1['budget']=newTV1['budget'].fillna(newTV1['budget'].mean())\n",
        "newTV1.info()"
      ],
      "execution_count": null,
      "outputs": [
        {
          "output_type": "stream",
          "text": [
            "<class 'pandas.core.frame.DataFrame'>\n",
            "RangeIndex: 4226 entries, 0 to 4225\n",
            "Data columns (total 58 columns):\n",
            " #   Column                         Non-Null Count  Dtype  \n",
            "---  ------                         --------------  -----  \n",
            " 0   video_id                       4226 non-null   int64  \n",
            " 1   cvt_per_day                    4226 non-null   float64\n",
            " 2   weighted_categorical_position  4226 non-null   int64  \n",
            " 3   weighted_horizontal_poition    4226 non-null   int64  \n",
            " 4   imdb_votes                     4226 non-null   float64\n",
            " 5   budget                         4226 non-null   float64\n",
            " 6   boxoffice                      4226 non-null   float64\n",
            " 7   imdb_rating                    4226 non-null   float64\n",
            " 8   duration_in_mins               4226 non-null   float64\n",
            " 9   metacritic_score               4226 non-null   float64\n",
            " 10  star_category                  4226 non-null   float64\n",
            " 11  lionsgate                      4226 non-null   uint8  \n",
            " 12  mgm                            4226 non-null   uint8  \n",
            " 13  other                          4226 non-null   uint8  \n",
            " 14  paramount                      4226 non-null   uint8  \n",
            " 15  G                              4226 non-null   uint8  \n",
            " 16  NC-17                          4226 non-null   uint8  \n",
            " 17  NotRated                       4226 non-null   uint8  \n",
            " 18  PG                             4226 non-null   uint8  \n",
            " 19  PG-13                          4226 non-null   uint8  \n",
            " 20  R                              4226 non-null   uint8  \n",
            " 21  BAFTA                          4226 non-null   uint8  \n",
            " 22  Golden Globe                   4226 non-null   uint8  \n",
            " 23  Oscar                          4226 non-null   uint8  \n",
            " 24  no award                       4226 non-null   uint8  \n",
            " 25  other award                    4226 non-null   uint8  \n",
            " 26  Action                         4226 non-null   int64  \n",
            " 27  Adventure                      4226 non-null   int64  \n",
            " 28  Animation                      4226 non-null   int64  \n",
            " 29  Comedy                         4226 non-null   int64  \n",
            " 30  Crime                          4226 non-null   int64  \n",
            " 31  Documentary                    4226 non-null   int64  \n",
            " 32  Drama                          4226 non-null   int64  \n",
            " 33  Fantasy                        4226 non-null   int64  \n",
            " 34  Foreign/International          4226 non-null   int64  \n",
            " 35  Horror                         4226 non-null   int64  \n",
            " 36  Independent                    4226 non-null   int64  \n",
            " 37  Kids & Family                  4226 non-null   int64  \n",
            " 38  Music                          4226 non-null   int64  \n",
            " 39  Musicals                       4226 non-null   int64  \n",
            " 40  Mystery                        4226 non-null   int64  \n",
            " 41  Romance                        4226 non-null   int64  \n",
            " 42  Sci-Fi                         4226 non-null   int64  \n",
            " 43  Sport                          4226 non-null   int64  \n",
            " 44  Thriller                       4226 non-null   int64  \n",
            " 45  War                            4226 non-null   int64  \n",
            " 46  Western                        4226 non-null   int64  \n",
            " 47  Misc_genres                    4226 non-null   int64  \n",
            " 48  1916-1974                      4226 non-null   uint8  \n",
            " 49  1974-1991                      4226 non-null   uint8  \n",
            " 50  1991-2001                      4226 non-null   uint8  \n",
            " 51  2001-2006                      4226 non-null   uint8  \n",
            " 52  2006-2008                      4226 non-null   uint8  \n",
            " 53  2008-2010                      4226 non-null   uint8  \n",
            " 54  2010-2012                      4226 non-null   uint8  \n",
            " 55  2012-2013                      4226 non-null   uint8  \n",
            " 56  2013-2014                      4226 non-null   uint8  \n",
            " 57  2014-2017                      4226 non-null   uint8  \n",
            "dtypes: float64(8), int64(25), uint8(25)\n",
            "memory usage: 1.2 MB\n"
          ],
          "name": "stdout"
        }
      ]
    },
    {
      "cell_type": "markdown",
      "metadata": {
        "id": "2DcCzUhrRrJh"
      },
      "source": [
        "There are two most common used scaling method: normalization and standardscaler\n",
        "If there are no specific requirement for the range of output, we choose to use standardscaler"
      ]
    },
    {
      "cell_type": "markdown",
      "metadata": {
        "id": "XqN_tYv537ak"
      },
      "source": [
        "## 2.3 Feature scaling"
      ]
    },
    {
      "cell_type": "markdown",
      "metadata": {
        "id": "Qbgz-PeU3-PK"
      },
      "source": [
        "The impact of different scaling methods on the model performance is small. In the following model training and selections, the standard scaling (sc) data is used."
      ]
    },
    {
      "cell_type": "code",
      "metadata": {
        "colab": {
          "base_uri": "https://localhost:8080/",
          "height": 241
        },
        "id": "PtgYY2bzq3Z3",
        "outputId": "840b61ef-10d5-4cdc-ce6e-40dba2dcadf0"
      },
      "source": [
        "# First way of scaling, Standard scaling\n",
        "scale_lst = ['weighted_categorical_position', 'weighted_horizontal_poition', 'budget','boxoffice', \n",
        "             'imdb_votes','imdb_rating','duration_in_mins', 'metacritic_score','star_category']\n",
        "newTV_sc = newTV1.copy()\n",
        "scaler = preprocessing.StandardScaler()\n",
        "scaler.fit(newTV_sc[scale_lst])\n",
        "newTV_sc[scale_lst] = scaler.transform(newTV_sc[scale_lst])\n",
        "newTV_sc.head()\n"
      ],
      "execution_count": null,
      "outputs": [
        {
          "output_type": "execute_result",
          "data": {
            "text/html": [
              "<div>\n",
              "<style scoped>\n",
              "    .dataframe tbody tr th:only-of-type {\n",
              "        vertical-align: middle;\n",
              "    }\n",
              "\n",
              "    .dataframe tbody tr th {\n",
              "        vertical-align: top;\n",
              "    }\n",
              "\n",
              "    .dataframe thead th {\n",
              "        text-align: right;\n",
              "    }\n",
              "</style>\n",
              "<table border=\"1\" class=\"dataframe\">\n",
              "  <thead>\n",
              "    <tr style=\"text-align: right;\">\n",
              "      <th></th>\n",
              "      <th>video_id</th>\n",
              "      <th>cvt_per_day</th>\n",
              "      <th>weighted_categorical_position</th>\n",
              "      <th>weighted_horizontal_poition</th>\n",
              "      <th>imdb_votes</th>\n",
              "      <th>budget</th>\n",
              "      <th>boxoffice</th>\n",
              "      <th>imdb_rating</th>\n",
              "      <th>duration_in_mins</th>\n",
              "      <th>metacritic_score</th>\n",
              "      <th>star_category</th>\n",
              "      <th>lionsgate</th>\n",
              "      <th>mgm</th>\n",
              "      <th>other</th>\n",
              "      <th>paramount</th>\n",
              "      <th>G</th>\n",
              "      <th>NC-17</th>\n",
              "      <th>NotRated</th>\n",
              "      <th>PG</th>\n",
              "      <th>PG-13</th>\n",
              "      <th>R</th>\n",
              "      <th>BAFTA</th>\n",
              "      <th>Golden Globe</th>\n",
              "      <th>Oscar</th>\n",
              "      <th>no award</th>\n",
              "      <th>other award</th>\n",
              "      <th>Action</th>\n",
              "      <th>Adventure</th>\n",
              "      <th>Animation</th>\n",
              "      <th>Comedy</th>\n",
              "      <th>Crime</th>\n",
              "      <th>Documentary</th>\n",
              "      <th>Drama</th>\n",
              "      <th>Fantasy</th>\n",
              "      <th>Foreign/International</th>\n",
              "      <th>Horror</th>\n",
              "      <th>Independent</th>\n",
              "      <th>Kids &amp; Family</th>\n",
              "      <th>Music</th>\n",
              "      <th>Musicals</th>\n",
              "      <th>Mystery</th>\n",
              "      <th>Romance</th>\n",
              "      <th>Sci-Fi</th>\n",
              "      <th>Sport</th>\n",
              "      <th>Thriller</th>\n",
              "      <th>War</th>\n",
              "      <th>Western</th>\n",
              "      <th>Misc_genres</th>\n",
              "      <th>1916-1974</th>\n",
              "      <th>1974-1991</th>\n",
              "      <th>1991-2001</th>\n",
              "      <th>2001-2006</th>\n",
              "      <th>2006-2008</th>\n",
              "      <th>2008-2010</th>\n",
              "      <th>2010-2012</th>\n",
              "      <th>2012-2013</th>\n",
              "      <th>2013-2014</th>\n",
              "      <th>2014-2017</th>\n",
              "    </tr>\n",
              "  </thead>\n",
              "  <tbody>\n",
              "    <tr>\n",
              "      <th>0</th>\n",
              "      <td>385504</td>\n",
              "      <td>307127.606</td>\n",
              "      <td>-1.106</td>\n",
              "      <td>-2.116</td>\n",
              "      <td>1.984</td>\n",
              "      <td>1.470</td>\n",
              "      <td>4.696</td>\n",
              "      <td>0.542</td>\n",
              "      <td>1.079</td>\n",
              "      <td>-0.630</td>\n",
              "      <td>0.033</td>\n",
              "      <td>1</td>\n",
              "      <td>0</td>\n",
              "      <td>0</td>\n",
              "      <td>0</td>\n",
              "      <td>0</td>\n",
              "      <td>0</td>\n",
              "      <td>0</td>\n",
              "      <td>0</td>\n",
              "      <td>1</td>\n",
              "      <td>0</td>\n",
              "      <td>0</td>\n",
              "      <td>0</td>\n",
              "      <td>0</td>\n",
              "      <td>0</td>\n",
              "      <td>1</td>\n",
              "      <td>1</td>\n",
              "      <td>0</td>\n",
              "      <td>0</td>\n",
              "      <td>0</td>\n",
              "      <td>0</td>\n",
              "      <td>0</td>\n",
              "      <td>1</td>\n",
              "      <td>0</td>\n",
              "      <td>0</td>\n",
              "      <td>0</td>\n",
              "      <td>0</td>\n",
              "      <td>0</td>\n",
              "      <td>0</td>\n",
              "      <td>0</td>\n",
              "      <td>0</td>\n",
              "      <td>0</td>\n",
              "      <td>0</td>\n",
              "      <td>0</td>\n",
              "      <td>1</td>\n",
              "      <td>0</td>\n",
              "      <td>0</td>\n",
              "      <td>0</td>\n",
              "      <td>0</td>\n",
              "      <td>0</td>\n",
              "      <td>0</td>\n",
              "      <td>0</td>\n",
              "      <td>0</td>\n",
              "      <td>0</td>\n",
              "      <td>0</td>\n",
              "      <td>1</td>\n",
              "      <td>0</td>\n",
              "      <td>0</td>\n",
              "    </tr>\n",
              "    <tr>\n",
              "      <th>1</th>\n",
              "      <td>300175</td>\n",
              "      <td>270338.426</td>\n",
              "      <td>-1.106</td>\n",
              "      <td>-2.116</td>\n",
              "      <td>1.258</td>\n",
              "      <td>1.470</td>\n",
              "      <td>-1.022</td>\n",
              "      <td>0.542</td>\n",
              "      <td>0.257</td>\n",
              "      <td>-1.997</td>\n",
              "      <td>3.434</td>\n",
              "      <td>1</td>\n",
              "      <td>0</td>\n",
              "      <td>0</td>\n",
              "      <td>0</td>\n",
              "      <td>0</td>\n",
              "      <td>0</td>\n",
              "      <td>0</td>\n",
              "      <td>0</td>\n",
              "      <td>0</td>\n",
              "      <td>1</td>\n",
              "      <td>0</td>\n",
              "      <td>0</td>\n",
              "      <td>0</td>\n",
              "      <td>1</td>\n",
              "      <td>0</td>\n",
              "      <td>0</td>\n",
              "      <td>0</td>\n",
              "      <td>0</td>\n",
              "      <td>1</td>\n",
              "      <td>1</td>\n",
              "      <td>0</td>\n",
              "      <td>0</td>\n",
              "      <td>0</td>\n",
              "      <td>0</td>\n",
              "      <td>0</td>\n",
              "      <td>0</td>\n",
              "      <td>0</td>\n",
              "      <td>0</td>\n",
              "      <td>0</td>\n",
              "      <td>0</td>\n",
              "      <td>0</td>\n",
              "      <td>0</td>\n",
              "      <td>0</td>\n",
              "      <td>1</td>\n",
              "      <td>0</td>\n",
              "      <td>0</td>\n",
              "      <td>0</td>\n",
              "      <td>0</td>\n",
              "      <td>0</td>\n",
              "      <td>0</td>\n",
              "      <td>0</td>\n",
              "      <td>0</td>\n",
              "      <td>0</td>\n",
              "      <td>0</td>\n",
              "      <td>1</td>\n",
              "      <td>0</td>\n",
              "      <td>0</td>\n",
              "    </tr>\n",
              "    <tr>\n",
              "      <th>2</th>\n",
              "      <td>361899</td>\n",
              "      <td>256165.867</td>\n",
              "      <td>-1.106</td>\n",
              "      <td>-2.116</td>\n",
              "      <td>6.043</td>\n",
              "      <td>3.108</td>\n",
              "      <td>3.898</td>\n",
              "      <td>1.100</td>\n",
              "      <td>1.243</td>\n",
              "      <td>0.327</td>\n",
              "      <td>2.102</td>\n",
              "      <td>0</td>\n",
              "      <td>0</td>\n",
              "      <td>1</td>\n",
              "      <td>0</td>\n",
              "      <td>0</td>\n",
              "      <td>0</td>\n",
              "      <td>0</td>\n",
              "      <td>0</td>\n",
              "      <td>0</td>\n",
              "      <td>1</td>\n",
              "      <td>0</td>\n",
              "      <td>0</td>\n",
              "      <td>0</td>\n",
              "      <td>0</td>\n",
              "      <td>1</td>\n",
              "      <td>0</td>\n",
              "      <td>0</td>\n",
              "      <td>0</td>\n",
              "      <td>0</td>\n",
              "      <td>1</td>\n",
              "      <td>0</td>\n",
              "      <td>1</td>\n",
              "      <td>0</td>\n",
              "      <td>0</td>\n",
              "      <td>0</td>\n",
              "      <td>0</td>\n",
              "      <td>0</td>\n",
              "      <td>0</td>\n",
              "      <td>0</td>\n",
              "      <td>0</td>\n",
              "      <td>0</td>\n",
              "      <td>0</td>\n",
              "      <td>0</td>\n",
              "      <td>0</td>\n",
              "      <td>0</td>\n",
              "      <td>0</td>\n",
              "      <td>0</td>\n",
              "      <td>0</td>\n",
              "      <td>0</td>\n",
              "      <td>0</td>\n",
              "      <td>0</td>\n",
              "      <td>0</td>\n",
              "      <td>0</td>\n",
              "      <td>1</td>\n",
              "      <td>0</td>\n",
              "      <td>0</td>\n",
              "      <td>0</td>\n",
              "    </tr>\n",
              "    <tr>\n",
              "      <th>3</th>\n",
              "      <td>308314</td>\n",
              "      <td>196622.721</td>\n",
              "      <td>-0.780</td>\n",
              "      <td>-2.032</td>\n",
              "      <td>11.077</td>\n",
              "      <td>1.470</td>\n",
              "      <td>0.767</td>\n",
              "      <td>1.309</td>\n",
              "      <td>1.952</td>\n",
              "      <td>5.250</td>\n",
              "      <td>-0.063</td>\n",
              "      <td>1</td>\n",
              "      <td>0</td>\n",
              "      <td>0</td>\n",
              "      <td>0</td>\n",
              "      <td>0</td>\n",
              "      <td>0</td>\n",
              "      <td>0</td>\n",
              "      <td>0</td>\n",
              "      <td>0</td>\n",
              "      <td>1</td>\n",
              "      <td>0</td>\n",
              "      <td>0</td>\n",
              "      <td>1</td>\n",
              "      <td>0</td>\n",
              "      <td>0</td>\n",
              "      <td>1</td>\n",
              "      <td>0</td>\n",
              "      <td>0</td>\n",
              "      <td>0</td>\n",
              "      <td>0</td>\n",
              "      <td>1</td>\n",
              "      <td>1</td>\n",
              "      <td>0</td>\n",
              "      <td>0</td>\n",
              "      <td>0</td>\n",
              "      <td>0</td>\n",
              "      <td>0</td>\n",
              "      <td>0</td>\n",
              "      <td>0</td>\n",
              "      <td>1</td>\n",
              "      <td>0</td>\n",
              "      <td>0</td>\n",
              "      <td>0</td>\n",
              "      <td>1</td>\n",
              "      <td>1</td>\n",
              "      <td>0</td>\n",
              "      <td>0</td>\n",
              "      <td>0</td>\n",
              "      <td>0</td>\n",
              "      <td>0</td>\n",
              "      <td>0</td>\n",
              "      <td>1</td>\n",
              "      <td>0</td>\n",
              "      <td>0</td>\n",
              "      <td>0</td>\n",
              "      <td>0</td>\n",
              "      <td>0</td>\n",
              "    </tr>\n",
              "    <tr>\n",
              "      <th>4</th>\n",
              "      <td>307201</td>\n",
              "      <td>159841.652</td>\n",
              "      <td>-1.106</td>\n",
              "      <td>-2.116</td>\n",
              "      <td>1.258</td>\n",
              "      <td>3.290</td>\n",
              "      <td>-0.265</td>\n",
              "      <td>0.472</td>\n",
              "      <td>0.758</td>\n",
              "      <td>-2.544</td>\n",
              "      <td>3.029</td>\n",
              "      <td>1</td>\n",
              "      <td>0</td>\n",
              "      <td>0</td>\n",
              "      <td>0</td>\n",
              "      <td>0</td>\n",
              "      <td>0</td>\n",
              "      <td>0</td>\n",
              "      <td>0</td>\n",
              "      <td>0</td>\n",
              "      <td>1</td>\n",
              "      <td>0</td>\n",
              "      <td>0</td>\n",
              "      <td>0</td>\n",
              "      <td>0</td>\n",
              "      <td>1</td>\n",
              "      <td>0</td>\n",
              "      <td>0</td>\n",
              "      <td>0</td>\n",
              "      <td>0</td>\n",
              "      <td>1</td>\n",
              "      <td>1</td>\n",
              "      <td>0</td>\n",
              "      <td>0</td>\n",
              "      <td>0</td>\n",
              "      <td>0</td>\n",
              "      <td>0</td>\n",
              "      <td>0</td>\n",
              "      <td>0</td>\n",
              "      <td>0</td>\n",
              "      <td>1</td>\n",
              "      <td>0</td>\n",
              "      <td>0</td>\n",
              "      <td>0</td>\n",
              "      <td>1</td>\n",
              "      <td>0</td>\n",
              "      <td>0</td>\n",
              "      <td>0</td>\n",
              "      <td>0</td>\n",
              "      <td>0</td>\n",
              "      <td>0</td>\n",
              "      <td>0</td>\n",
              "      <td>0</td>\n",
              "      <td>0</td>\n",
              "      <td>0</td>\n",
              "      <td>1</td>\n",
              "      <td>0</td>\n",
              "      <td>0</td>\n",
              "    </tr>\n",
              "  </tbody>\n",
              "</table>\n",
              "</div>"
            ],
            "text/plain": [
              "   video_id  cvt_per_day  weighted_categorical_position  \\\n",
              "0    385504   307127.606                         -1.106   \n",
              "1    300175   270338.426                         -1.106   \n",
              "2    361899   256165.867                         -1.106   \n",
              "3    308314   196622.721                         -0.780   \n",
              "4    307201   159841.652                         -1.106   \n",
              "\n",
              "   weighted_horizontal_poition  imdb_votes  budget  boxoffice  imdb_rating  \\\n",
              "0                       -2.116       1.984   1.470      4.696        0.542   \n",
              "1                       -2.116       1.258   1.470     -1.022        0.542   \n",
              "2                       -2.116       6.043   3.108      3.898        1.100   \n",
              "3                       -2.032      11.077   1.470      0.767        1.309   \n",
              "4                       -2.116       1.258   3.290     -0.265        0.472   \n",
              "\n",
              "   duration_in_mins  metacritic_score  star_category  lionsgate  mgm  other  \\\n",
              "0             1.079            -0.630          0.033          1    0      0   \n",
              "1             0.257            -1.997          3.434          1    0      0   \n",
              "2             1.243             0.327          2.102          0    0      1   \n",
              "3             1.952             5.250         -0.063          1    0      0   \n",
              "4             0.758            -2.544          3.029          1    0      0   \n",
              "\n",
              "   paramount  G  NC-17  NotRated  PG  PG-13  R  BAFTA  Golden Globe  Oscar  \\\n",
              "0          0  0      0         0   0      1  0      0             0      0   \n",
              "1          0  0      0         0   0      0  1      0             0      0   \n",
              "2          0  0      0         0   0      0  1      0             0      0   \n",
              "3          0  0      0         0   0      0  1      0             0      1   \n",
              "4          0  0      0         0   0      0  1      0             0      0   \n",
              "\n",
              "   no award  other award  Action  Adventure  Animation  Comedy  Crime  \\\n",
              "0         0            1       1          0          0       0      0   \n",
              "1         1            0       0          0          0       1      1   \n",
              "2         0            1       0          0          0       0      1   \n",
              "3         0            0       1          0          0       0      0   \n",
              "4         0            1       0          0          0       0      1   \n",
              "\n",
              "   Documentary  Drama  Fantasy  Foreign/International  Horror  Independent  \\\n",
              "0            0      1        0                      0       0            0   \n",
              "1            0      0        0                      0       0            0   \n",
              "2            0      1        0                      0       0            0   \n",
              "3            1      1        0                      0       0            0   \n",
              "4            1      0        0                      0       0            0   \n",
              "\n",
              "   Kids & Family  Music  Musicals  Mystery  Romance  Sci-Fi  Sport  Thriller  \\\n",
              "0              0      0         0        0        0       0      0         1   \n",
              "1              0      0         0        0        0       0      0         1   \n",
              "2              0      0         0        0        0       0      0         0   \n",
              "3              0      0         0        1        0       0      0         1   \n",
              "4              0      0         0        1        0       0      0         1   \n",
              "\n",
              "   War  Western  Misc_genres  1916-1974  1974-1991  1991-2001  2001-2006  \\\n",
              "0    0        0            0          0          0          0          0   \n",
              "1    0        0            0          0          0          0          0   \n",
              "2    0        0            0          0          0          0          0   \n",
              "3    1        0            0          0          0          0          0   \n",
              "4    0        0            0          0          0          0          0   \n",
              "\n",
              "   2006-2008  2008-2010  2010-2012  2012-2013  2013-2014  2014-2017  \n",
              "0          0          0          0          1          0          0  \n",
              "1          0          0          0          1          0          0  \n",
              "2          0          0          1          0          0          0  \n",
              "3          1          0          0          0          0          0  \n",
              "4          0          0          0          1          0          0  "
            ]
          },
          "metadata": {
            "tags": []
          },
          "execution_count": 10
        }
      ]
    },
    {
      "cell_type": "code",
      "metadata": {
        "id": "KlvOiEqz4LWH"
      },
      "source": [
        "# Second way of scaling, MinMax scaling\n",
        "# newTV_mm = newTV.copy()\n",
        "# mm_scale = preprocessing.MinMaxScaler().fit(newTV_mm[scale_lst])\n",
        "# newTV_mm[scale_lst] = mm_scale.transform(newTV_mm[scale_lst])"
      ],
      "execution_count": null,
      "outputs": []
    },
    {
      "cell_type": "markdown",
      "metadata": {
        "id": "TpuYM0uv4OnC"
      },
      "source": [
        "# Part 3: Model Training"
      ]
    },
    {
      "cell_type": "code",
      "metadata": {
        "id": "Z0wDBXROSAe-"
      },
      "source": [
        "train, test = train_test_split(newTV_sc, test_size=0.15, random_state = 3)\n",
        "model_train_x = train.drop(['video_id', 'cvt_per_day'], axis = 1)\n",
        "model_test_x = test.drop(['video_id', 'cvt_per_day'], axis = 1)\n",
        "model_train_y = train['cvt_per_day']\n",
        "model_test_y = test['cvt_per_day']"
      ],
      "execution_count": null,
      "outputs": []
    },
    {
      "cell_type": "code",
      "metadata": {
        "id": "tnOQUuiCY46M"
      },
      "source": [
        "from sklearn.model_selection import GridSearchCV\n",
        "def print_grid_search_metrics(gs):\n",
        "    print(\"Best score: \" + str(gs.best_score_))\n",
        "    print(\"Best parameters: \")\n",
        "    best_parameters = gs.best_params_\n",
        "    for param_name in sorted(best_parameters.keys()):\n",
        "        print(param_name + ':' + str(best_parameters[param_name]))"
      ],
      "execution_count": null,
      "outputs": []
    },
    {
      "cell_type": "markdown",
      "metadata": {
        "id": "a715kJX94Ukb"
      },
      "source": [
        "### 3.1 Lasso linear regression"
      ]
    },
    {
      "cell_type": "code",
      "metadata": {
        "colab": {
          "base_uri": "https://localhost:8080/"
        },
        "id": "GoDNfG7po1iw",
        "outputId": "a7a3512e-c28a-48ee-852c-aef9b35e6ae8"
      },
      "source": [
        "from sklearn.linear_model import LinearRegression, Lasso, Ridge\n",
        "parameters = {\n",
        "    'alpha': np.linspace (1, 201, num=500)\n",
        "}\n",
        "\n",
        "lasso_cv = GridSearchCV(Lasso(), parameters, cv=5)\n",
        "lasso_cv.fit(model_train_x, model_train_y)"
      ],
      "execution_count": null,
      "outputs": [
        {
          "output_type": "execute_result",
          "data": {
            "text/plain": [
              "GridSearchCV(cv=5, error_score=nan,\n",
              "             estimator=Lasso(alpha=1.0, copy_X=True, fit_intercept=True,\n",
              "                             max_iter=1000, normalize=False, positive=False,\n",
              "                             precompute=False, random_state=None,\n",
              "                             selection='cyclic', tol=0.0001, warm_start=False),\n",
              "             iid='deprecated', n_jobs=None,\n",
              "             param_grid={'alpha': array([  1.        ,   1.4008016 ,   1.80160321,   2.20240481,\n",
              "         2.60320641,   3.00400802,   3.40480962,   3.80561...\n",
              "       191.78156313, 192.18236473, 192.58316633, 192.98396794,\n",
              "       193.38476954, 193.78557114, 194.18637275, 194.58717435,\n",
              "       194.98797595, 195.38877756, 195.78957916, 196.19038076,\n",
              "       196.59118236, 196.99198397, 197.39278557, 197.79358717,\n",
              "       198.19438878, 198.59519038, 198.99599198, 199.39679359,\n",
              "       199.79759519, 200.19839679, 200.5991984 , 201.        ])},\n",
              "             pre_dispatch='2*n_jobs', refit=True, return_train_score=False,\n",
              "             scoring=None, verbose=0)"
            ]
          },
          "metadata": {
            "tags": []
          },
          "execution_count": 13
        }
      ]
    },
    {
      "cell_type": "code",
      "metadata": {
        "colab": {
          "base_uri": "https://localhost:8080/"
        },
        "id": "tMwIu7RqxaaO",
        "outputId": "a37e3cd3-070d-40eb-f772-c18b2940345d"
      },
      "source": [
        "print_grid_search_metrics(lasso_cv)"
      ],
      "execution_count": null,
      "outputs": [
        {
          "output_type": "stream",
          "text": [
            "Best score: 0.27184785108562837\n",
            "Best parameters:\n",
            "alpha:59.517034068136276\n"
          ],
          "name": "stdout"
        }
      ]
    },
    {
      "cell_type": "code",
      "metadata": {
        "colab": {
          "base_uri": "https://localhost:8080/"
        },
        "id": "-fOYua1sYCeH",
        "outputId": "2d56721b-c24b-400c-dd00-9e4e684bc464"
      },
      "source": [
        "best_lasso_model = lasso_cv.best_estimator_\n",
        "best_lasso_model"
      ],
      "execution_count": null,
      "outputs": [
        {
          "output_type": "execute_result",
          "data": {
            "text/plain": [
              "Lasso(alpha=59.517034068136276, copy_X=True, fit_intercept=True, max_iter=1000,\n",
              "      normalize=False, positive=False, precompute=False, random_state=None,\n",
              "      selection='cyclic', tol=0.0001, warm_start=False)"
            ]
          },
          "metadata": {
            "tags": []
          },
          "execution_count": 15
        }
      ]
    },
    {
      "cell_type": "code",
      "metadata": {
        "colab": {
          "base_uri": "https://localhost:8080/",
          "height": 329
        },
        "id": "jXNJRu0eYgiv",
        "outputId": "222fcaa6-19ba-47b8-a218-32a0d0edf113"
      },
      "source": [
        "##############################################\n",
        "# 或者自己写loop找alpha, 这里只用了 1-fold cross-validation\n",
        "from sklearn.linear_model import LinearRegression, Lasso, Ridge\n",
        "from sklearn.metrics import mean_squared_error, r2_score\n",
        "from math import sqrt\n",
        "\n",
        "lr_train, lr_validate = train_test_split(train, test_size=0.20, random_state = 3)\n",
        "\n",
        "lr_train_x = lr_train.drop(['video_id', 'cvt_per_day'], axis = 1)\n",
        "lr_validate_x = lr_validate.drop(['video_id', 'cvt_per_day'], axis = 1)\n",
        "lr_train_y = lr_train['cvt_per_day']\n",
        "lr_validate_y = lr_validate['cvt_per_day']\n",
        "\n",
        "alphas = np.linspace (1, 201, num=500)\n",
        "scores = np.empty_like(alphas)\n",
        "opt_a = float('-inf')\n",
        "max_score = float('-inf')\n",
        "for i, a in enumerate(alphas):\n",
        "    lasso_m = Lasso()\n",
        "    lasso_m.set_params(alpha = a)\n",
        "    lasso_m.fit(lr_train_x, lr_train_y)\n",
        "    scores[i] = lasso_m.score(lr_validate_x, lr_validate_y)\n",
        "    if scores[i] > max_score:\n",
        "        max_score = scores[i]\n",
        "        opt_a = a\n",
        "        lasso_save = lasso_m\n",
        "plt.plot(alphas, scores, color='b')\n",
        "plt.xlabel('alpha')\n",
        "plt.ylabel('score')\n",
        "plt.grid(True)\n",
        "plt.title('score vs. alpha')\n",
        "plt.show()\n",
        "model1_para = opt_a\n",
        "print('The optimaized alpha and score of Lasso linear is: '), opt_a, max_score\n"
      ],
      "execution_count": null,
      "outputs": [
        {
          "output_type": "display_data",
          "data": {
            "image/png": "[encoded data removed]",
            "text/plain": [
              "<Figure size 432x288 with 1 Axes>"
            ]
          },
          "metadata": {
            "tags": []
          }
        },
        {
          "output_type": "stream",
          "text": [
            "The optimaized alpha and score of Lasso linear is: \n"
          ],
          "name": "stdout"
        },
        {
          "output_type": "execute_result",
          "data": {
            "text/plain": [
              "(None, 2.603206412825651, 0.19279104645147038)"
            ]
          },
          "metadata": {
            "tags": []
          },
          "execution_count": 43
        }
      ]
    },
    {
      "cell_type": "code",
      "metadata": {
        "colab": {
          "base_uri": "https://localhost:8080/"
        },
        "id": "w6o_T8LK6tp3",
        "outputId": "8d134e94-3010-4290-9f8d-4d786c005d80"
      },
      "source": [
        "###################################\n",
        "# manually fit model using best alpha\n",
        "# combine the validate data and training data, use the optimal alpha, re-train the model\n",
        "lasso_f = Lasso()\n",
        "lasso_f.set_params(opt_a)\n",
        "lasso_f.fit(model_train_x, model_train_y)\n"
      ],
      "execution_count": null,
      "outputs": [
        {
          "output_type": "execute_result",
          "data": {
            "text/plain": [
              "Lasso(alpha=59.517034068136276, copy_X=True, fit_intercept=True, max_iter=1000,\n",
              "      normalize=False, positive=False, precompute=False, random_state=None,\n",
              "      selection='cyclic', tol=0.0001, warm_start=False)"
            ]
          },
          "metadata": {
            "tags": []
          },
          "execution_count": 32
        }
      ]
    },
    {
      "cell_type": "markdown",
      "metadata": {
        "id": "xwTJbv2oBvdm"
      },
      "source": [
        "## 3.2 Ridge linear regression"
      ]
    },
    {
      "cell_type": "code",
      "metadata": {
        "colab": {
          "base_uri": "https://localhost:8080/"
        },
        "id": "4ZGjA4ea7Kgf",
        "outputId": "b1453345-762a-4b01-ff05-b1d986895bd4"
      },
      "source": [
        "parameters = {\n",
        "    'alpha': np.linspace (100, 301, num=500)\n",
        "}\n",
        "\n",
        "ridge = GridSearchCV(Ridge(), parameters, cv=5)\n",
        "ridge.fit(model_train_x, model_train_y)"
      ],
      "execution_count": null,
      "outputs": [
        {
          "output_type": "execute_result",
          "data": {
            "text/plain": [
              "GridSearchCV(cv=5, error_score=nan,\n",
              "             estimator=Ridge(alpha=1.0, copy_X=True, fit_intercept=True,\n",
              "                             max_iter=None, normalize=False, random_state=None,\n",
              "                             solver='auto', tol=0.001),\n",
              "             iid='deprecated', n_jobs=None,\n",
              "             param_grid={'alpha': array([100.        , 100.40280561, 100.80561122, 101.20841683,\n",
              "       101.61122244, 102.01402806, 102.41683367, 102.81963928,\n",
              "       103.22244489, 103.6252505 , 104.02805...\n",
              "       291.73547094, 292.13827655, 292.54108216, 292.94388778,\n",
              "       293.34669339, 293.749499  , 294.15230461, 294.55511022,\n",
              "       294.95791583, 295.36072144, 295.76352705, 296.16633267,\n",
              "       296.56913828, 296.97194389, 297.3747495 , 297.77755511,\n",
              "       298.18036072, 298.58316633, 298.98597194, 299.38877756,\n",
              "       299.79158317, 300.19438878, 300.59719439, 301.        ])},\n",
              "             pre_dispatch='2*n_jobs', refit=True, return_train_score=False,\n",
              "             scoring=None, verbose=0)"
            ]
          },
          "metadata": {
            "tags": []
          },
          "execution_count": 76
        }
      ]
    },
    {
      "cell_type": "code",
      "metadata": {
        "colab": {
          "base_uri": "https://localhost:8080/"
        },
        "id": "f4uWz9jw7jkv",
        "outputId": "e6a57340-3248-445a-f6af-f53c76d54bca"
      },
      "source": [
        "print_grid_search_metrics(ridge)"
      ],
      "execution_count": null,
      "outputs": [
        {
          "output_type": "stream",
          "text": [
            "Best score: 0.27821684133392166\n",
            "Best parameters:\n",
            "alpha:268.7755511022044\n"
          ],
          "name": "stdout"
        }
      ]
    },
    {
      "cell_type": "code",
      "metadata": {
        "colab": {
          "base_uri": "https://localhost:8080/"
        },
        "id": "E4JJXOzcX9bb",
        "outputId": "03ce1623-d81f-4cb4-d0b7-f09eca4d1136"
      },
      "source": [
        "best_ridge_model = ridge.best_estimator_\n",
        "best_ridge_model"
      ],
      "execution_count": null,
      "outputs": [
        {
          "output_type": "execute_result",
          "data": {
            "text/plain": [
              "Ridge(alpha=268.7755511022044, copy_X=True, fit_intercept=True, max_iter=None,\n",
              "      normalize=False, random_state=None, solver='auto', tol=0.001)"
            ]
          },
          "metadata": {
            "tags": []
          },
          "execution_count": 77
        }
      ]
    },
    {
      "cell_type": "code",
      "metadata": {
        "colab": {
          "base_uri": "https://localhost:8080/",
          "height": 329
        },
        "id": "SbLyWw9U0ZO0",
        "outputId": "28b61a4b-06a3-4443-f6be-11f80bdb9af4"
      },
      "source": [
        "#################################\n",
        "# Use the same training data set as Lasso (linear features)\n",
        "lr_train, lr_validate = train_test_split(train, test_size=0.20, random_state = 0)\n",
        "lr_train_x = lr_train.drop(['video_id', 'cvt_per_day'], axis = 1)\n",
        "lr_train_y = lr_train['cvt_per_day']\n",
        "lr_validate_x = lr_validate.drop(['video_id', 'cvt_per_day'], axis = 1)\n",
        "lr_validate_y = lr_validate['cvt_per_day']\n",
        "\n",
        "alphas = np.linspace (100, 500, num=500)\n",
        "scores = np.empty_like(alphas)\n",
        "opt_a = float('-inf')\n",
        "max_score = float('-inf')\n",
        "for i, a in enumerate(alphas):\n",
        "    ridge_m = Ridge()\n",
        "    ridge_m.set_params(alpha = a)\n",
        "    ridge_m.fit(lr_train_x, lr_train_y)\n",
        "    scores[i] = ridge_m.score(lr_validate_x, lr_validate_y)\n",
        "    if scores[i] > max_score:\n",
        "        max_score = scores[i]\n",
        "        opt_a = a\n",
        "        ridge_save = ridge_m\n",
        "plt.plot(alphas, scores, color='r', linestyle='dashed', marker='o',markerfacecolor='r', markersize=6)\n",
        "plt.xlabel('alpha')\n",
        "plt.ylabel('score')\n",
        "plt.grid(True)\n",
        "plt.title('score vs. alpha')\n",
        "plt.show()\n",
        "model3_para = opt_a\n",
        "print ('The optimaized alpha and score of Ridge linear is: '), opt_a, max_score"
      ],
      "execution_count": null,
      "outputs": [
        {
          "output_type": "display_data",
          "data": {
            "image/png": "[encoded data removed]",
            "text/plain": [
              "<Figure size 432x288 with 1 Axes>"
            ]
          },
          "metadata": {
            "tags": [],
            "needs_background": "light"
          }
        },
        {
          "output_type": "stream",
          "text": [
            "The optimaized alpha and score of Ridge linear is: \n"
          ],
          "name": "stdout"
        },
        {
          "output_type": "execute_result",
          "data": {
            "text/plain": [
              "(None, 213.82765531062125, 0.3274262646352598)"
            ]
          },
          "metadata": {
            "tags": []
          },
          "execution_count": 22
        }
      ]
    },
    {
      "cell_type": "code",
      "metadata": {
        "colab": {
          "base_uri": "https://localhost:8080/"
        },
        "id": "XxEqMw4iE9XZ",
        "outputId": "1ed953d0-fb7f-4ab5-f330-0c3a4727ff78"
      },
      "source": [
        "# add the 15% validate data, use the optimal alpha, re-train the model\n",
        "\n",
        "ridge_f = Ridge()\n",
        "ridge_f.set_params(alpha = opt_a)\n",
        "ridge_f.fit(model_train_x, model_train_y)\n",
        "\n",
        "# ridge_f is the Ridge model (linear feature), to be tested with test data."
      ],
      "execution_count": null,
      "outputs": [
        {
          "output_type": "execute_result",
          "data": {
            "text/plain": [
              "Ridge(alpha=213.82765531062125, copy_X=True, fit_intercept=True, max_iter=None,\n",
              "      normalize=False, random_state=None, solver='auto', tol=0.001)"
            ]
          },
          "metadata": {
            "tags": []
          },
          "execution_count": 23
        }
      ]
    },
    {
      "cell_type": "markdown",
      "metadata": {
        "id": "T8k96l4UFhoy"
      },
      "source": [
        "##3.3 Random Forest"
      ]
    },
    {
      "cell_type": "code",
      "metadata": {
        "colab": {
          "base_uri": "https://localhost:8080/"
        },
        "id": "jpHVKREP5FmB",
        "outputId": "e6bdd220-d23f-4ea8-b9b1-3d3827f6f6a9"
      },
      "source": [
        "from sklearn.ensemble import RandomForestRegressor\n",
        "from sklearn.model_selection import GridSearchCV\n",
        "rf=RandomForestRegressor(random_state=3, max_features='sqrt', n_jobs=-1)\n",
        "parameters = {\n",
        "    'n_estimators': [60,61,62,63,64,65],\n",
        "    'max_depth': [8,10,15,16]\n",
        "    }\n",
        "random_forest=GridSearchCV(rf, param_grid=parameters, cv=5, n_jobs=-1, pre_dispatch='2*n_jobs')\n",
        "random_forest.fit(model_train_x,model_train_y)"
      ],
      "execution_count": null,
      "outputs": [
        {
          "output_type": "execute_result",
          "data": {
            "text/plain": [
              "GridSearchCV(cv=5, error_score=nan,\n",
              "             estimator=RandomForestRegressor(bootstrap=True, ccp_alpha=0.0,\n",
              "                                             criterion='mse', max_depth=None,\n",
              "                                             max_features='sqrt',\n",
              "                                             max_leaf_nodes=None,\n",
              "                                             max_samples=None,\n",
              "                                             min_impurity_decrease=0.0,\n",
              "                                             min_impurity_split=None,\n",
              "                                             min_samples_leaf=1,\n",
              "                                             min_samples_split=2,\n",
              "                                             min_weight_fraction_leaf=0.0,\n",
              "                                             n_estimators=100, n_jobs=-1,\n",
              "                                             oob_score=False, random_state=3,\n",
              "                                             verbose=0, warm_start=False),\n",
              "             iid='deprecated', n_jobs=-1,\n",
              "             param_grid={'max_depth': [8, 10, 15, 16],\n",
              "                         'n_estimators': [60, 61, 62, 63, 64, 65]},\n",
              "             pre_dispatch='2*n_jobs', refit=True, return_train_score=False,\n",
              "             scoring=None, verbose=0)"
            ]
          },
          "metadata": {
            "tags": []
          },
          "execution_count": 78
        }
      ]
    },
    {
      "cell_type": "code",
      "metadata": {
        "id": "kWr04jn1H-jB",
        "colab": {
          "base_uri": "https://localhost:8080/"
        },
        "outputId": "53fb27fb-b3af-4fff-94bd-729c7ad53bfc"
      },
      "source": [
        "print_grid_search_metrics(random_forest)"
      ],
      "execution_count": null,
      "outputs": [
        {
          "output_type": "stream",
          "text": [
            "Best score: 0.4602797610106051\n",
            "Best parameters:\n",
            "max_depth:15\n",
            "n_estimators:62\n"
          ],
          "name": "stdout"
        }
      ]
    },
    {
      "cell_type": "code",
      "metadata": {
        "colab": {
          "base_uri": "https://localhost:8080/"
        },
        "id": "Op53FbAFY-9W",
        "outputId": "d768a3c9-fb48-489e-b88c-913e6c50ea6b"
      },
      "source": [
        "best_rf_model = random_forest.best_estimator_\n",
        "best_rf_model"
      ],
      "execution_count": null,
      "outputs": [
        {
          "output_type": "execute_result",
          "data": {
            "text/plain": [
              "RandomForestRegressor(bootstrap=True, ccp_alpha=0.0, criterion='mse',\n",
              "                      max_depth=15, max_features='sqrt', max_leaf_nodes=None,\n",
              "                      max_samples=None, min_impurity_decrease=0.0,\n",
              "                      min_impurity_split=None, min_samples_leaf=1,\n",
              "                      min_samples_split=2, min_weight_fraction_leaf=0.0,\n",
              "                      n_estimators=62, n_jobs=-1, oob_score=False,\n",
              "                      random_state=3, verbose=0, warm_start=False)"
            ]
          },
          "metadata": {
            "tags": []
          },
          "execution_count": 79
        }
      ]
    },
    {
      "cell_type": "code",
      "metadata": {
        "colab": {
          "base_uri": "https://localhost:8080/",
          "height": 1000
        },
        "id": "e6aNH8hemOZR",
        "outputId": "e9ea678e-dc2c-4852-fefe-2a2d493d450e"
      },
      "source": [
        "result = random_forest.cv_results_\n",
        "print(result)\n",
        "max_depth=[8,10,15,16]\n",
        "n_estimators=[60,61,62,63,64,65]\n",
        "scores=random_forest.cv_results_['mean_test_score'].reshape(len(max_depth),len(n_estimators))\n",
        "plt.figure(1)\n",
        "plt.subplot(1,1,1)\n",
        "for i,j in enumerate(max_depth):\n",
        "  plt.plot(n_estimators,scores[i],'-o',label='max_depths is: '+str(j))\n",
        "plt.legend(bbox_to_anchor=(1.05, 1), loc='upper left', borderaxespad=0.)\n",
        "plt.xlabel('n_estimators')\n",
        "plt.ylabel('mean_test_score')\n",
        "plt.show()\n",
        "print('the best parameter for max_depth is: '+str(random_forest.best_params_['max_depth']))\n",
        "print('the best parameter for n_estimators is: '+str(random_forest.best_params_['n_estimators']))"
      ],
      "execution_count": null,
      "outputs": [
        {
          "output_type": "stream",
          "text": [
            "{'mean_fit_time': array([0.35206885, 0.35535378, 0.35300889, 0.35457268, 0.25361013,\n",
            "       0.31016016, 0.34390059, 0.34078794, 0.32950382, 0.34341564,\n",
            "       0.32812562, 0.32828746, 0.42481599, 0.43453598, 0.4296844 ,\n",
            "       0.44407697, 0.4277638 , 0.44279747, 0.43201165, 0.46459999,\n",
            "       0.53717389, 0.5453814 , 0.47439737, 0.44303169]), 'std_fit_time': array([0.0033501 , 0.00429309, 0.00628219, 0.02340286, 0.01670966,\n",
            "       0.04230521, 0.01001011, 0.01109956, 0.03704402, 0.00789323,\n",
            "       0.05118318, 0.03193176, 0.04982982, 0.04497041, 0.04019903,\n",
            "       0.0148852 , 0.0344182 , 0.01213333, 0.03891019, 0.0728018 ,\n",
            "       0.04160357, 0.00916332, 0.04671431, 0.06628587]), 'mean_score_time': array([0.10414805, 0.10500708, 0.10442109, 0.1045918 , 0.10721464,\n",
            "       0.10584569, 0.10512719, 0.10725555, 0.10768676, 0.10812311,\n",
            "       0.10558105, 0.10553427, 0.10773578, 0.1070787 , 0.10773845,\n",
            "       0.10758567, 0.10653048, 0.108741  , 0.10893021, 0.10575113,\n",
            "       0.10420122, 0.10406156, 0.10611472, 0.10551467]), 'std_score_time': array([0.00066767, 0.00123104, 0.00121612, 0.00099883, 0.0019129 ,\n",
            "       0.00239495, 0.00249294, 0.00197814, 0.00199524, 0.00375906,\n",
            "       0.00184857, 0.00156916, 0.00641898, 0.00146198, 0.00286018,\n",
            "       0.00332508, 0.00207471, 0.00244329, 0.00346385, 0.00311178,\n",
            "       0.00058147, 0.00070972, 0.00299716, 0.00216654]), 'param_max_depth': masked_array(data=[8, 8, 8, 8, 8, 8, 10, 10, 10, 10, 10, 10, 15, 15, 15,\n",
            "                   15, 15, 15, 16, 16, 16, 16, 16, 16],\n",
            "             mask=[False, False, False, False, False, False, False, False,\n",
            "                   False, False, False, False, False, False, False, False,\n",
            "                   False, False, False, False, False, False, False, False],\n",
            "       fill_value='?',\n",
            "            dtype=object), 'param_n_estimators': masked_array(data=[60, 61, 62, 63, 64, 65, 60, 61, 62, 63, 64, 65, 60, 61,\n",
            "                   62, 63, 64, 65, 60, 61, 62, 63, 64, 65],\n",
            "             mask=[False, False, False, False, False, False, False, False,\n",
            "                   False, False, False, False, False, False, False, False,\n",
            "                   False, False, False, False, False, False, False, False],\n",
            "       fill_value='?',\n",
            "            dtype=object), 'params': [{'max_depth': 8, 'n_estimators': 60}, {'max_depth': 8, 'n_estimators': 61}, {'max_depth': 8, 'n_estimators': 62}, {'max_depth': 8, 'n_estimators': 63}, {'max_depth': 8, 'n_estimators': 64}, {'max_depth': 8, 'n_estimators': 65}, {'max_depth': 10, 'n_estimators': 60}, {'max_depth': 10, 'n_estimators': 61}, {'max_depth': 10, 'n_estimators': 62}, {'max_depth': 10, 'n_estimators': 63}, {'max_depth': 10, 'n_estimators': 64}, {'max_depth': 10, 'n_estimators': 65}, {'max_depth': 15, 'n_estimators': 60}, {'max_depth': 15, 'n_estimators': 61}, {'max_depth': 15, 'n_estimators': 62}, {'max_depth': 15, 'n_estimators': 63}, {'max_depth': 15, 'n_estimators': 64}, {'max_depth': 15, 'n_estimators': 65}, {'max_depth': 16, 'n_estimators': 60}, {'max_depth': 16, 'n_estimators': 61}, {'max_depth': 16, 'n_estimators': 62}, {'max_depth': 16, 'n_estimators': 63}, {'max_depth': 16, 'n_estimators': 64}, {'max_depth': 16, 'n_estimators': 65}], 'split0_test_score': array([0.4057114 , 0.39848692, 0.40239536, 0.39916306, 0.39814341,\n",
            "       0.40233128, 0.35119743, 0.34810702, 0.35372002, 0.34553504,\n",
            "       0.34782971, 0.35504684, 0.41252571, 0.41895465, 0.4252859 ,\n",
            "       0.42317178, 0.41846833, 0.41587387, 0.39098078, 0.38291507,\n",
            "       0.38981807, 0.38943698, 0.38999925, 0.3888513 ]), 'split1_test_score': array([0.55792736, 0.55337676, 0.55920588, 0.55642107, 0.55177731,\n",
            "       0.55226315, 0.56018001, 0.55539729, 0.55924921, 0.56132877,\n",
            "       0.55923802, 0.56000049, 0.58450933, 0.5817034 , 0.57846643,\n",
            "       0.57800827, 0.57459747, 0.57987918, 0.56872108, 0.57146844,\n",
            "       0.57041384, 0.57205185, 0.56785186, 0.56908431]), 'split2_test_score': array([0.38100433, 0.38187665, 0.38532412, 0.38214806, 0.38262038,\n",
            "       0.38467077, 0.41457437, 0.41345149, 0.41270141, 0.41087801,\n",
            "       0.41086035, 0.41156652, 0.38289169, 0.38146979, 0.38325989,\n",
            "       0.38378433, 0.38431632, 0.38609959, 0.391279  , 0.3880683 ,\n",
            "       0.39034239, 0.38838501, 0.389644  , 0.38878438]), 'split3_test_score': array([0.61518723, 0.61671106, 0.61591458, 0.61818637, 0.61855482,\n",
            "       0.62004089, 0.62985004, 0.62815634, 0.63288013, 0.63411734,\n",
            "       0.63615396, 0.63410599, 0.66981511, 0.66535391, 0.66632344,\n",
            "       0.66310742, 0.65755877, 0.65544888, 0.67166747, 0.67016355,\n",
            "       0.66780072, 0.66809685, 0.66588402, 0.66672343]), 'split4_test_score': array([0.13222978, 0.13360099, 0.14390092, 0.1443336 , 0.13560204,\n",
            "       0.14416098, 0.20278464, 0.20274658, 0.20871726, 0.2044612 ,\n",
            "       0.20376094, 0.2094625 , 0.24230166, 0.24627168, 0.24806314,\n",
            "       0.24271824, 0.24326334, 0.24708782, 0.24422714, 0.22594102,\n",
            "       0.23285026, 0.23753861, 0.23036422, 0.23471262]), 'mean_test_score': array([0.41841202, 0.41681048, 0.42134817, 0.42005043, 0.41733959,\n",
            "       0.42069341, 0.4317173 , 0.42957174, 0.43345361, 0.43126407,\n",
            "       0.4315686 , 0.43403647, 0.4584087 , 0.45875069, 0.46027976,\n",
            "       0.45815801, 0.45564084, 0.45687787, 0.45337509, 0.44771128,\n",
            "       0.45024506, 0.45110186, 0.44874867, 0.44963121]), 'std_test_score': array([0.16831276, 0.16755556, 0.16461759, 0.16477102, 0.16703954,\n",
            "       0.16441107, 0.15162239, 0.15074079, 0.15025977, 0.15314756,\n",
            "       0.15329189, 0.15038117, 0.1517263 , 0.14866449, 0.14738698,\n",
            "       0.14801224, 0.14594157, 0.14509481, 0.14996539, 0.15603764,\n",
            "       0.15249344, 0.15169769, 0.15229574, 0.15164736]), 'rank_test_score': array([22, 24, 19, 21, 23, 20, 15, 18, 14, 17, 16, 13,  3,  2,  1,  4,  6,\n",
            "        5,  7, 12,  9,  8, 11, 10], dtype=int32)}\n"
          ],
          "name": "stdout"
        },
        {
          "output_type": "display_data",
          "data": {
            "image/png": "[encoded data removed]",
            "text/plain": [
              "<Figure size 432x288 with 1 Axes>"
            ]
          },
          "metadata": {
            "tags": [],
            "needs_background": "light"
          }
        },
        {
          "output_type": "stream",
          "text": [
            "the best parameter for max_depth is: 15\n",
            "the best parameter for n_estimators is: 62\n"
          ],
          "name": "stdout"
        }
      ]
    },
    {
      "cell_type": "markdown",
      "metadata": {
        "id": "4hOWiqrAGBT3"
      },
      "source": [
        "# Part 4: Model Evaluation"
      ]
    },
    {
      "cell_type": "markdown",
      "metadata": {
        "id": "OTvNuvgHgopJ"
      },
      "source": [
        "## 4.1 Evaluate all models"
      ]
    },
    {
      "cell_type": "code",
      "metadata": {
        "id": "hqKQ3G8r2Y7m"
      },
      "source": [
        "train_x = model_train_x\n",
        "train_y = model_train_y\n",
        "test_x = model_test_x\n",
        "test_y = model_test_y"
      ],
      "execution_count": null,
      "outputs": []
    },
    {
      "cell_type": "code",
      "metadata": {
        "colab": {
          "base_uri": "https://localhost:8080/"
        },
        "id": "N2qw9hnaVYbB",
        "outputId": "3982c86e-c732-4ca1-9227-37e2060baf6f"
      },
      "source": [
        "# For lasso\n",
        "from sklearn.metrics import mean_squared_error\n",
        "# lasso=Lasso(**lasso_params)\n",
        "# lasso.fit(train_x,train_y)\n",
        "pred_y=best_lasso_model.predict(test_x)\n",
        "lasso_score=best_lasso_model.score(test_x,test_y)\n",
        "MSE_lasso=mean_squared_error(test_y,pred_y)\n",
        "RMSE_lasso=np.sqrt(MSE_lasso)\n",
        "print ('lasso score: ', lasso_score)\n",
        "print ('Mean square error of lasso: ', MSE_lasso)\n",
        "print ('Root mean squared error of lasso:', RMSE_lasso)"
      ],
      "execution_count": null,
      "outputs": [
        {
          "output_type": "stream",
          "text": [
            "lasso score:  0.10697940764457048\n",
            "Mean square error of lasso:  236981452.0422127\n",
            "Root mean squared error of lasso: 15394.201896890034\n"
          ],
          "name": "stdout"
        }
      ]
    },
    {
      "cell_type": "code",
      "metadata": {
        "colab": {
          "base_uri": "https://localhost:8080/"
        },
        "id": "ivKR4daTVy7d",
        "outputId": "9d900fb5-054f-4404-b914-6496bf367b08"
      },
      "source": [
        "# for ridge\n",
        "from sklearn.metrics import mean_squared_error\n",
        "# ridge = Ridge(**ridge_params)\n",
        "# ridge.fit(train_x, train_y)\n",
        "pred_y=best_ridge_model.predict(test_x)\n",
        "ridge_score=best_ridge_model.score(test_x,test_y)\n",
        "MSE_ridge=mean_squared_error(test_y,pred_y)\n",
        "RMSE_ridge=np.sqrt(MSE_ridge)\n",
        "print ('ridge score: ', ridge_score)\n",
        "print ('Mean square error of ridge: ', MSE_ridge)\n",
        "print ('Root mean squared error of ridge:', RMSE_ridge)"
      ],
      "execution_count": null,
      "outputs": [
        {
          "output_type": "stream",
          "text": [
            "ridge score:  0.11517352581201823\n",
            "Mean square error of ridge:  234806973.60560083\n",
            "Root mean squared error of ridge: 15323.412596598737\n"
          ],
          "name": "stdout"
        }
      ]
    },
    {
      "cell_type": "code",
      "metadata": {
        "colab": {
          "base_uri": "https://localhost:8080/"
        },
        "id": "uhuoqrdCRcDK",
        "outputId": "4de50609-7ffa-4384-d148-37a634b1cf48"
      },
      "source": [
        "# For randomforest regression\n",
        "from sklearn.ensemble import RandomForestRegressor\n",
        "# random_forest = RandomForestRegressor(**rf_params)\n",
        "# random_forest.fit(train_x, train_y)\n",
        "pred_y=best_rf_model.predict(test_x)\n",
        "rf_score=best_rf_model.score(test_x,test_y)\n",
        "MSE_rf=mean_squared_error(test_y,pred_y)\n",
        "RMSE_rf=np.sqrt(MSE_rf)\n",
        "print ('rf score: ', rf_score)\n",
        "print ('Mean square error of rf: ', MSE_rf)\n",
        "print ('Root mean squared error of rf:', RMSE_rf)"
      ],
      "execution_count": null,
      "outputs": [
        {
          "output_type": "stream",
          "text": [
            "rf score:  0.6058306472561128\n",
            "Mean square error of rf:  104600976.01714346\n",
            "Root mean squared error of rf: 10227.46185605908\n"
          ],
          "name": "stdout"
        }
      ]
    },
    {
      "cell_type": "markdown",
      "metadata": {
        "id": "KOaL7VjchKND"
      },
      "source": [
        "## 4.2 Model comparison "
      ]
    },
    {
      "cell_type": "code",
      "metadata": {
        "colab": {
          "base_uri": "https://localhost:8080/",
          "height": 775
        },
        "id": "4GS6BG2PS2oE",
        "outputId": "1ae2e60f-9f3b-4dee-fcd2-0a9f308ca50b"
      },
      "source": [
        "lst_score = [lasso_score, ridge_score, rf_score]\n",
        "MSE_lst =  [MSE_lasso, MSE_ridge, MSE_rf]\n",
        "RMSE_lst =  [RMSE_lasso, RMSE_ridge, RMSE_rf]\n",
        "model_lst = ['Lasso_linear', 'Ridge linear', 'Random forest']\n",
        "\n",
        "plt.figure(1)\n",
        "plt.plot(model_lst, lst_score, 'ro')\n",
        "plt.legend(['score / r-squared'])\n",
        "# plt.xlabel('model names',fontsize =16)\n",
        "plt.ylabel('score / r-squared', fontsize =16)\n",
        "plt.grid(True)\n",
        "plt.show()\n",
        "\n",
        "plt.figure(2)\n",
        "plt.plot(model_lst, MSE_lst, 'g^')\n",
        "plt.legend(['mean square error (MSE)'])\n",
        "# plt.xlabel('model names', fontsize =16)\n",
        "plt.ylabel('mean square error', fontsize =16)\n",
        "plt.grid(True)\n",
        "plt.show()\n",
        "\n",
        "plt.figure(3)\n",
        "plt.plot(model_lst, RMSE_lst, 'bs')\n",
        "plt.legend(['root mean square error (RMSE)'])\n",
        "# plt.xlabel('model names', fontsize =16)\n",
        "plt.ylabel('root mean square error', fontsize =16)\n",
        "plt.grid(True)\n",
        "plt.show()"
      ],
      "execution_count": null,
      "outputs": [
        {
          "output_type": "display_data",
          "data": {
            "image/png": "[encoded data removed]",
            "text/plain": [
              "<Figure size 432x288 with 1 Axes>"
            ]
          },
          "metadata": {
            "tags": [],
            "needs_background": "light"
          }
        },
        {
          "output_type": "display_data",
          "data": {
            "image/png": "[encoded data removed]",
            "text/plain": [
              "<Figure size 432x288 with 1 Axes>"
            ]
          },
          "metadata": {
            "tags": [],
            "needs_background": "light"
          }
        },
        {
          "output_type": "display_data",
          "data": {
            "image/png": "[encoded data removed]",
            "text/plain": [
              "<Figure size 432x288 with 1 Axes>"
            ]
          },
          "metadata": {
            "tags": [],
            "needs_background": "light"
          }
        }
      ]
    },
    {
      "cell_type": "markdown",
      "metadata": {
        "id": "ndOUSyTvhb7k"
      },
      "source": [
        "## 4.3 Feature importance"
      ]
    },
    {
      "cell_type": "markdown",
      "metadata": {
        "id": "be1mLaDvUOgD"
      },
      "source": [
        "According to R square, MSE and RMSE, the Random Forest Regression has the best performance"
      ]
    },
    {
      "cell_type": "code",
      "metadata": {
        "colab": {
          "base_uri": "https://localhost:8080/"
        },
        "id": "w5WBKuYHXBUV",
        "outputId": "908b0466-9bb6-4b56-b2ce-8880eb518547"
      },
      "source": [
        "importances = random_forest.feature_importances_\n",
        "importances"
      ],
      "execution_count": null,
      "outputs": [
        {
          "output_type": "execute_result",
          "data": {
            "text/plain": [
              "array([2.94316051e-01, 1.12110932e-01, 2.09423527e-01, 1.85726326e-02,\n",
              "       1.86171853e-02, 2.41512566e-02, 2.69394460e-02, 4.26898283e-02,\n",
              "       5.28100657e-02, 4.25517481e-02, 1.42794883e-02, 2.76799462e-02,\n",
              "       3.61971816e-03, 1.42167907e-04, 9.31554096e-05, 5.50920272e-04,\n",
              "       2.17539663e-03, 2.08496790e-03, 2.15069889e-03, 2.31687826e-06,\n",
              "       1.29580774e-03, 6.12763157e-04, 2.90663584e-03, 3.73894365e-03,\n",
              "       1.49955792e-03, 1.68990072e-03, 1.69814592e-03, 5.13205067e-03,\n",
              "       2.43685083e-02, 7.14327412e-03, 2.21273251e-03, 1.12173533e-03,\n",
              "       3.12488214e-05, 1.70703179e-03, 1.96876086e-04, 3.62454911e-03,\n",
              "       2.17254019e-03, 4.59977202e-04, 1.95945522e-03, 1.13763657e-03,\n",
              "       2.49455951e-03, 1.59496832e-03, 3.53319230e-03, 6.42332304e-04,\n",
              "       3.87289242e-03, 4.20128739e-05, 3.31675868e-04, 2.01474778e-03,\n",
              "       1.29230303e-03, 4.40268211e-03, 3.97548788e-03, 2.21133977e-03,\n",
              "       3.23834108e-03, 6.07353069e-03, 3.98470040e-03, 6.24413886e-04])"
            ]
          },
          "metadata": {
            "tags": []
          },
          "execution_count": 61
        }
      ]
    },
    {
      "cell_type": "code",
      "metadata": {
        "colab": {
          "base_uri": "https://localhost:8080/"
        },
        "id": "cWFxyWmCaHc1",
        "outputId": "1d81d43b-76f2-430b-e46b-d215f946d320"
      },
      "source": [
        "importances[[0,2,1]]"
      ],
      "execution_count": null,
      "outputs": [
        {
          "output_type": "execute_result",
          "data": {
            "text/plain": [
              "array([0.29431605, 0.20942353, 0.11211093])"
            ]
          },
          "metadata": {
            "tags": []
          },
          "execution_count": 66
        }
      ]
    },
    {
      "cell_type": "code",
      "metadata": {
        "colab": {
          "base_uri": "https://localhost:8080/"
        },
        "id": "odddHbrmZyEQ",
        "outputId": "141d1f10-7cce-4cc1-f11d-e8c18ff4fb9f"
      },
      "source": [
        "np.argsort(importances)[::-1]"
      ],
      "execution_count": null,
      "outputs": [
        {
          "output_type": "execute_result",
          "data": {
            "text/plain": [
              "array([ 0,  2,  1,  8,  7,  9, 11,  6, 28,  5,  4,  3, 10, 29, 53, 27, 49,\n",
              "       54, 50, 44, 23, 35, 12, 42, 52, 22, 40, 30, 51, 16, 36, 18, 17, 47,\n",
              "       38, 33, 26, 25, 41, 24, 20, 48, 39, 31, 43, 55, 21, 15, 37, 46, 34,\n",
              "       13, 14, 45, 32, 19])"
            ]
          },
          "metadata": {
            "tags": []
          },
          "execution_count": 62
        }
      ]
    },
    {
      "cell_type": "code",
      "metadata": {
        "cellView": "code",
        "colab": {
          "base_uri": "https://localhost:8080/",
          "height": 407
        },
        "id": "o2AyiWRnVVJj",
        "outputId": "a060332b-1870-4a92-b33e-db3e10239b6f"
      },
      "source": [
        "importances = random_forest.feature_importances_\n",
        "feature_name = train_x.columns\n",
        "indices = np.argsort(importances)[::-1]\n",
        "plt.figure(1)\n",
        "plt.bar(feature_name[indices[:20]], importances[indices[:20]])\n",
        "plt.xticks(rotation=90)\n",
        "plt.show()"
      ],
      "execution_count": null,
      "outputs": [
        {
          "output_type": "display_data",
          "data": {
            "image/png": "[encoded data removed]",
            "text/plain": [
              "<Figure size 432x288 with 1 Axes>"
            ]
          },
          "metadata": {
            "tags": [],
            "needs_background": "light"
          }
        }
      ]
    }
  ]
}